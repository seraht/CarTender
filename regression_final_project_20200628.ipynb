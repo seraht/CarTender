{
 "cells": [
  {
   "cell_type": "code",
   "execution_count": 21,
   "metadata": {},
   "outputs": [],
   "source": [
    "import pandas as pd\n",
    "import matplotlib.pyplot as plt\n",
    "import collections\n",
    "from collections import defaultdict\n",
    "import operator\n",
    "import numpy as np"
   ]
  },
  {
   "cell_type": "code",
   "execution_count": 22,
   "metadata": {},
   "outputs": [
    {
     "name": "stderr",
     "output_type": "stream",
     "text": [
      "/opt/anaconda3/lib/python3.7/site-packages/IPython/core/interactiveshell.py:3058: DtypeWarning: Columns (13,21,41) have mixed types. Specify dtype option on import or set low_memory=False.\n",
      "  interactivity=interactivity, compiler=compiler, result=result)\n"
     ]
    },
    {
     "data": {
      "text/plain": [
       "(136405, 52)"
      ]
     },
     "execution_count": 22,
     "metadata": {},
     "output_type": "execute_result"
    }
   ],
   "source": [
    "joined_tables = pd.read_csv('joined_tables.csv',index_col=0)\n",
    "joined_tables.shape\n",
    "\n",
    "list1=[]\n",
    "for x in joined_tables['CNTRC']:\n",
    "    if str(x).replace(',', '').isdigit():\n",
    "        list1.append(str(x).replace(',', ''))\n",
    "    else: list1.append(x)\n",
    "        \n",
    "joined_tables['CNTRC']=list1\n",
    "joined_tables = joined_tables.astype({\"CNTRC\": str})\n",
    "joined_tables = joined_tables[joined_tables.CNTRC.apply(lambda x: x.isnumeric())]\n",
    "joined_tables.shape"
   ]
  },
  {
   "cell_type": "code",
   "execution_count": 23,
   "metadata": {},
   "outputs": [],
   "source": [
    "joined_tables['year_of_tender'] = [date.split('-')[0] for date in joined_tables['OPENING_DATE'].values]\n",
    "num_tenders_per_year = joined_tables.groupby('year_of_tender')['TENDERNO'].nunique()\n",
    "num_tenders_per_year = num_tenders_per_year.reset_index()\n",
    "num_tenders_per_year.rename(columns={'TENDERNO':'number_of_tenders_in_same_year'}, inplace=True)\n",
    "joined_tables = pd.merge(joined_tables, num_tenders_per_year, on=['year_of_tender'], how='left')"
   ]
  },
  {
   "cell_type": "markdown",
   "metadata": {},
   "source": [
    "DATEROAD DISTRIBUTION PER TENDER"
   ]
  },
  {
   "cell_type": "code",
   "execution_count": 24,
   "metadata": {},
   "outputs": [],
   "source": [
    "joined_tables = joined_tables[joined_tables['DATEROAD'].notna()]"
   ]
  },
  {
   "cell_type": "code",
   "execution_count": 25,
   "metadata": {},
   "outputs": [],
   "source": [
    "joined_tables['DATEROAD']=[(str(x)[-2:]) for x in joined_tables['DATEROAD']]"
   ]
  },
  {
   "cell_type": "code",
   "execution_count": 26,
   "metadata": {},
   "outputs": [],
   "source": [
    "# סידרנו את השנתון והוספנו עמודה של גיל\n",
    "year=[]\n",
    "for y in joined_tables['DATEROAD']:\n",
    "    if int(y)>30:\n",
    "        year.append('19' + str(y))\n",
    "    else:\n",
    "        year.append('20' + str(y))\n",
    "        \n",
    "joined_tables['DATEROAD'] = year  \n",
    "joined_tables['DATEROAD']=joined_tables['DATEROAD'].astype(int)\n",
    "joined_tables['year_of_tender']=joined_tables['year_of_tender'].astype(int)\n",
    "joined_tables['AGE']=joined_tables['year_of_tender']-joined_tables['DATEROAD']"
   ]
  },
  {
   "cell_type": "code",
   "execution_count": 8,
   "metadata": {},
   "outputs": [],
   "source": [
    "# כמה רכבים עם אותו שנתון יש במכרז\n",
    "year=joined_tables.groupby(['TENDERNO','DATEROAD'], as_index=False).count()\n",
    "year = year.rename({'CARNO':'DATEROAD_NUM'},axis=1)\n",
    "year = year[['TENDERNO', 'DATEROAD','DATEROAD_NUM']]"
   ]
  },
  {
   "cell_type": "code",
   "execution_count": 27,
   "metadata": {},
   "outputs": [],
   "source": [
    "# הוספה של עמודה של קטגוריה של ק\"מ בקפיצות של 10000\n",
    "joined_tables=joined_tables.astype({\"CNTRC\": int})\n",
    "joined_tables['KM']=joined_tables['CNTRC'] // 10000"
   ]
  },
  {
   "cell_type": "code",
   "execution_count": 10,
   "metadata": {},
   "outputs": [],
   "source": [
    "# כמה רכבים באותו מכרז בעלי אותו ק\"מ\n",
    "km=joined_tables.groupby(['TENDERNO','KM'], as_index=False).count()\n",
    "km = km.rename({'CARNO':'KM_NUM'},axis=1)\n",
    "km = km[['TENDERNO', 'KM','KM_NUM']]"
   ]
  },
  {
   "cell_type": "code",
   "execution_count": 28,
   "metadata": {},
   "outputs": [],
   "source": [
    "# ניקוי ויישור קן של עמודת יצרן הרכב\n",
    "pro=[]\n",
    "for p in joined_tables['PRODUCT']:\n",
    "     \n",
    "    if p in ['פולקסווגן','פולקסוואגן','פולגסווגן','פולקסווגן','פולגסוואגן', 'פולקסואגן','וולקסוואגן','פולקסווגן','פולקסווגן', 'פולקסווגן T5 קצר גג רגיל']:\n",
    "        pro.append('פולגסוואגן')\n",
    "    elif p in ['סאן יאנג','סאן-יאנג','סאניונג','סאנגיונג','סאן יאנג טיואן','סאן יאנג סין','סאן  יאנג','סאניאנג','קואנג יאנג']:\n",
    "        pro.append('סאן  יאנג')\n",
    "   \n",
    "    elif p in ['אודי','אאודי']:\n",
    "        pro.append('אודי')\n",
    "    elif p in ['קאיה','קיה','קיאה']:\n",
    "        pro.append('קיה')\n",
    "    elif p in ['במוו','ב.מ.וו','BMW','B.M.W']:\n",
    "        pro.append('BMW')\n",
    "    elif p in ['מזדה','מאזדה']:\n",
    "        pro.append('מאזדה')\n",
    "    elif p in ['טויוטה','טיוטה']:\n",
    "        pro.append('טויוטה')\n",
    "    elif p in ['מיציבושי','מיצובישי']:\n",
    "        pro.append('מיצובישי')\n",
    "    elif p in ['ימהה יפן','ימהה','ימאהה']:\n",
    "        pro.append('ימהה')\n",
    "    elif p in ['פיאג`ו', \"פג'ו\", 'פיג`ו',\"פיג'ו\",'פגו',\"פיגו'\",'פיגו',\"פיאג'ו\",\"פגו'\"]:\n",
    "        pro.append('פגו')\n",
    "    elif p in ['קאווסאקי','קאווסקי','קוואסקי','קוואסאקי']:\n",
    "        pro.append('קאווסאקי')\n",
    "    elif p in ['ניסן מקסיקו','ניסן','ניסאן']:\n",
    "        pro.append('ניסן')\n",
    "    elif p in ['סובארו','סוברו']:\n",
    "        pro.append('סוברו')\n",
    "    elif p in ['דיאליס','דיאלים']:\n",
    "        pro.append('דיאלים')\n",
    "    elif p in ['וולבו','וולוו']:\n",
    "        pro.append('וולוו')\n",
    "    elif p in ['דיימלר קרייזלר','קרייזלר']:\n",
    "        pro.append('קרייזלר')\n",
    "    elif p in ['פולריס','פולאריס']:\n",
    "        pro.append('פולאריס')\n",
    "    elif p in ['מאן','MAN']:\n",
    "        pro.append('MAN')    \n",
    "    else:\n",
    "        pro.append(p)\n",
    "        \n",
    "joined_tables['PRODUCT']=pro"
   ]
  },
  {
   "cell_type": "code",
   "execution_count": 29,
   "metadata": {},
   "outputs": [],
   "source": [
    "# ניקוי וישור קו של עמודת הגיר\n",
    "gear=[]\n",
    "for g in joined_tables['GEAR_TYPE']:\n",
    "    if g in ['אוטומט','אוטומטי','אוטומטית','א','אוטמט']:\n",
    "        gear.append('auto')\n",
    "    elif g=='ידני':\n",
    "        gear.append('manual')\n",
    "    elif g=='רובוטית':\n",
    "        gear.append('robot')\n",
    "    else: gear.append('unknown')\n",
    "joined_tables['GEAR_TYPE']=gear"
   ]
  },
  {
   "cell_type": "code",
   "execution_count": 13,
   "metadata": {},
   "outputs": [],
   "source": [
    "# כמה רכבים של אותו יצרן היו במרכז\n",
    "product= joined_tables.groupby(['TENDERNO','PRODUCT'], as_index=False).count()\n",
    "product= product.rename({'CARNO': 'PRODUCT_NUM'}, axis=1)\n",
    "product = product[['TENDERNO', 'PRODUCT', 'PRODUCT_NUM']]"
   ]
  },
  {
   "cell_type": "code",
   "execution_count": 14,
   "metadata": {},
   "outputs": [],
   "source": [
    "# איחוד של כל 3 הטבלאות שיצרנו למעלה עם הטבלה המקורית של ההצעות\n",
    "joined_tables= pd.merge(joined_tables, km, on =['TENDERNO', 'KM'], how='left')\n",
    "joined_tables= pd.merge(joined_tables, year, on =['TENDERNO', 'DATEROAD'], how='left')\n",
    "joined_tables= pd.merge(joined_tables, product, on =['TENDERNO', 'PRODUCT'], how='left')"
   ]
  },
  {
   "cell_type": "code",
   "execution_count": 15,
   "metadata": {},
   "outputs": [],
   "source": [
    "# הצעות על רכבים ללא יצרן ירדו מהטבלה\n",
    "joined_tables = joined_tables[joined_tables['PRODUCT'].notna()]"
   ]
  },
  {
   "cell_type": "code",
   "execution_count": 30,
   "metadata": {},
   "outputs": [],
   "source": [
    "# סדר בעמודת תו הסחר- הכנסנו 0 ו-1 \n",
    "joined_tables['TRADE']=joined_tables['TRADE'].str.replace('X', '1').fillna('0')"
   ]
  },
  {
   "cell_type": "markdown",
   "metadata": {},
   "source": [
    "### CAR BOOK"
   ]
  },
  {
   "cell_type": "code",
   "execution_count": 31,
   "metadata": {},
   "outputs": [],
   "source": [
    "car_book = pd.read_excel('car_book_with_dates.xlsx',index_col=0)\n",
    "# מוסיפים עמודה שאומרת אם רכב עבר תאונה או יותר עם בדיקת שמאי\n",
    "car_book['accident_ind']=np.where((car_book['MNCOD']==9138.0),1,0) #9138 - shamay"
   ]
  },
  {
   "cell_type": "code",
   "execution_count": 32,
   "metadata": {},
   "outputs": [],
   "source": [
    "# אינדיקציה האם רכב עבר תאונה או לא\n",
    "car_agg=car_book.groupby('EQUNR').max()\n",
    "car_agg=car_agg.reset_index()\n",
    "car_agg=car_agg[['EQUNR','accident_ind']]"
   ]
  },
  {
   "cell_type": "code",
   "execution_count": 33,
   "metadata": {},
   "outputs": [],
   "source": [
    "# מחברים את האינדיקציה לגבי התאונות לטבלת ההצעות המרכזית\n",
    "joined_tables = pd.merge(joined_tables, car_agg, on='EQUNR', how='left')"
   ]
  },
  {
   "cell_type": "code",
   "execution_count": 34,
   "metadata": {},
   "outputs": [],
   "source": [
    "# רכבים שלא היה עליהם מידע לגבי תאונות- קיבלו ערך 0 בעמודת התאונות\n",
    "# מתוך הנחה שאם הרכב היה עובר תאונה שמצריכה שמאי- זה היה מתועד בספר הרכב בוודאות\n",
    "joined_tables['accident_ind']=joined_tables['accident_ind'].fillna(0)"
   ]
  },
  {
   "cell_type": "markdown",
   "metadata": {},
   "source": [
    "# עובדים על הטבלה הגדולה של ההצעות "
   ]
  },
  {
   "cell_type": "code",
   "execution_count": 35,
   "metadata": {},
   "outputs": [],
   "source": [
    "#השארנו רק רכבים שנמכרו- כלומר מחיר המכירה שלהם היה גדול מ0\n",
    "joined_tables=joined_tables[joined_tables['SALE_PRICE']>0]"
   ]
  },
  {
   "cell_type": "code",
   "execution_count": 36,
   "metadata": {},
   "outputs": [],
   "source": [
    "joined_tables.to_csv('joined_tables_plus.csv', encoding=\"utf-8-sig\")"
   ]
  },
  {
   "cell_type": "code",
   "execution_count": 47,
   "metadata": {},
   "outputs": [],
   "source": [
    "joined_tables_plus = pd.read_csv('joined_tables_plus.csv', index_col=0, low_memory=False, encoding=\"cp1255\")"
   ]
  },
  {
   "cell_type": "markdown",
   "metadata": {},
   "source": [
    "### Build Dataframe on car level"
   ]
  },
  {
   "cell_type": "code",
   "execution_count": 90,
   "metadata": {},
   "outputs": [],
   "source": [
    "#לפני נרמול\n",
    "cars_df=joined_tables_plus.groupby(['EQUNR','TENDERNO']).agg({\n",
    "                        'HATZAA_NO':'count',\n",
    "                        'CAR_POSITION' :'max',\n",
    "                        'PRODUCT' :'max',\n",
    "                        'MODEL' :'max',\n",
    "                        'CAR_TYPE' : 'max',\n",
    "                        'KM':'max',\n",
    "                        'ENGINE_POWER':'max',\n",
    "                        'ENGINE_TYPE':'max',\n",
    "                        'GEAR_TYPE':'max',\n",
    "                        'NO_OWNERS':'max', \n",
    "                        'CNTRC': 'max',\n",
    "                        'TRADE':'max',  \n",
    "                        'accident_ind':'max',\n",
    "                        'number_of_people_in_tender': 'max',\n",
    "                        'number_of_cars_in_tender': 'max',  \n",
    "                        'number_of_offers_in_tender': 'max',\n",
    "                        'year_of_tender': 'max',   \n",
    "                        'number_of_tenders_in_same_year': 'max',\n",
    "                        #'KM_NUM': 'max',\n",
    "                        #'DATEROAD_NUM': 'max',\n",
    "                        #'CAR_TYPE_NUM': 'max',\n",
    "                        'AGE': 'max',\n",
    "                        'DATEROAD': 'max',\n",
    "                        'SALE_PRICE' : 'mean'})"
   ]
  },
  {
   "cell_type": "markdown",
   "metadata": {},
   "source": [
    "### Categorize cars and separate trucks and buses"
   ]
  },
  {
   "cell_type": "code",
   "execution_count": 91,
   "metadata": {},
   "outputs": [],
   "source": [
    "truck_list=['MAN','איסוזו','איווקו']\n",
    "\n",
    "cars_df['CAR_TYPE']=np.where(cars_df['PRODUCT'].isin(truck_list) | \n",
    "                             cars_df['MODEL'].str.contains('אוטובוס|משאי', regex=True),\n",
    "                            'extra_large',cars_df['CAR_TYPE'])"
   ]
  },
  {
   "cell_type": "code",
   "execution_count": 92,
   "metadata": {},
   "outputs": [
    {
     "data": {
      "image/png": "[encoded data removed]",
      "text/plain": [
       "<Figure size 432x288 with 1 Axes>"
      ]
     },
     "metadata": {
      "needs_background": "light"
     },
     "output_type": "display_data"
    }
   ],
   "source": [
    "df5 = cars_df.groupby('CAR_TYPE').size()\n",
    "df5 = df5.sort_values(ascending=False, inplace=False)\n",
    "ax = df5.plot(kind = 'bar', cmap=plt.cm.viridis)\n",
    "plt.yscale(\"log\")"
   ]
  },
  {
   "cell_type": "code",
   "execution_count": 93,
   "metadata": {},
   "outputs": [],
   "source": [
    "cars_df=cars_df[cars_df['CAR_TYPE']!='extra_large']"
   ]
  },
  {
   "cell_type": "code",
   "execution_count": 94,
   "metadata": {},
   "outputs": [],
   "source": [
    "cars_df = cars_df.reset_index()"
   ]
  },
  {
   "cell_type": "code",
   "execution_count": 95,
   "metadata": {},
   "outputs": [
    {
     "data": {
      "text/html": [
       "<div>\n",
       "<style scoped>\n",
       "    .dataframe tbody tr th:only-of-type {\n",
       "        vertical-align: middle;\n",
       "    }\n",
       "\n",
       "    .dataframe tbody tr th {\n",
       "        vertical-align: top;\n",
       "    }\n",
       "\n",
       "    .dataframe thead th {\n",
       "        text-align: right;\n",
       "    }\n",
       "</style>\n",
       "<table border=\"1\" class=\"dataframe\">\n",
       "  <thead>\n",
       "    <tr style=\"text-align: right;\">\n",
       "      <th></th>\n",
       "      <th>EQUNR</th>\n",
       "      <th>TENDERNO</th>\n",
       "      <th>HATZAA_NO</th>\n",
       "      <th>CAR_POSITION</th>\n",
       "      <th>PRODUCT</th>\n",
       "      <th>MODEL</th>\n",
       "      <th>CAR_TYPE</th>\n",
       "      <th>KM</th>\n",
       "      <th>ENGINE_POWER</th>\n",
       "      <th>ENGINE_TYPE</th>\n",
       "      <th>...</th>\n",
       "      <th>TRADE</th>\n",
       "      <th>accident_ind</th>\n",
       "      <th>number_of_people_in_tender</th>\n",
       "      <th>number_of_cars_in_tender</th>\n",
       "      <th>number_of_offers_in_tender</th>\n",
       "      <th>year_of_tender</th>\n",
       "      <th>number_of_tenders_in_same_year</th>\n",
       "      <th>AGE</th>\n",
       "      <th>DATEROAD</th>\n",
       "      <th>SALE_PRICE</th>\n",
       "    </tr>\n",
       "  </thead>\n",
       "  <tbody>\n",
       "    <tr>\n",
       "      <td>0</td>\n",
       "      <td>23</td>\n",
       "      <td>2014-103</td>\n",
       "      <td>8</td>\n",
       "      <td>משטרה</td>\n",
       "      <td>מאזדה</td>\n",
       "      <td>6</td>\n",
       "      <td>executive</td>\n",
       "      <td>15</td>\n",
       "      <td>2000</td>\n",
       "      <td>בנזין</td>\n",
       "      <td>...</td>\n",
       "      <td>0</td>\n",
       "      <td>0</td>\n",
       "      <td>307</td>\n",
       "      <td>278</td>\n",
       "      <td>3077</td>\n",
       "      <td>2014</td>\n",
       "      <td>12</td>\n",
       "      <td>5</td>\n",
       "      <td>2009</td>\n",
       "      <td>43800</td>\n",
       "    </tr>\n",
       "    <tr>\n",
       "      <td>1</td>\n",
       "      <td>63</td>\n",
       "      <td>2014-103</td>\n",
       "      <td>19</td>\n",
       "      <td>משטרה</td>\n",
       "      <td>מאזדה</td>\n",
       "      <td>6</td>\n",
       "      <td>executive</td>\n",
       "      <td>14</td>\n",
       "      <td>2000</td>\n",
       "      <td>בנזין</td>\n",
       "      <td>...</td>\n",
       "      <td>0</td>\n",
       "      <td>0</td>\n",
       "      <td>307</td>\n",
       "      <td>278</td>\n",
       "      <td>3077</td>\n",
       "      <td>2014</td>\n",
       "      <td>12</td>\n",
       "      <td>5</td>\n",
       "      <td>2009</td>\n",
       "      <td>50753</td>\n",
       "    </tr>\n",
       "    <tr>\n",
       "      <td>2</td>\n",
       "      <td>79</td>\n",
       "      <td>2014-103</td>\n",
       "      <td>17</td>\n",
       "      <td>משטרה</td>\n",
       "      <td>מאזדה</td>\n",
       "      <td>6</td>\n",
       "      <td>executive</td>\n",
       "      <td>18</td>\n",
       "      <td>2000</td>\n",
       "      <td>בנזין</td>\n",
       "      <td>...</td>\n",
       "      <td>0</td>\n",
       "      <td>0</td>\n",
       "      <td>307</td>\n",
       "      <td>278</td>\n",
       "      <td>3077</td>\n",
       "      <td>2014</td>\n",
       "      <td>12</td>\n",
       "      <td>4</td>\n",
       "      <td>2010</td>\n",
       "      <td>53670</td>\n",
       "    </tr>\n",
       "    <tr>\n",
       "      <td>3</td>\n",
       "      <td>140</td>\n",
       "      <td>2020-101</td>\n",
       "      <td>7</td>\n",
       "      <td>משטרה</td>\n",
       "      <td>קיה</td>\n",
       "      <td>ריאו</td>\n",
       "      <td>family</td>\n",
       "      <td>17</td>\n",
       "      <td>1400</td>\n",
       "      <td>בנזין</td>\n",
       "      <td>...</td>\n",
       "      <td>0</td>\n",
       "      <td>0</td>\n",
       "      <td>377</td>\n",
       "      <td>418</td>\n",
       "      <td>5107</td>\n",
       "      <td>2020</td>\n",
       "      <td>3</td>\n",
       "      <td>5</td>\n",
       "      <td>2015</td>\n",
       "      <td>22500</td>\n",
       "    </tr>\n",
       "    <tr>\n",
       "      <td>4</td>\n",
       "      <td>512</td>\n",
       "      <td>2014-103</td>\n",
       "      <td>15</td>\n",
       "      <td>משטרה</td>\n",
       "      <td>מאזדה</td>\n",
       "      <td>3</td>\n",
       "      <td>family</td>\n",
       "      <td>32</td>\n",
       "      <td>1600</td>\n",
       "      <td>בנזין</td>\n",
       "      <td>...</td>\n",
       "      <td>0</td>\n",
       "      <td>0</td>\n",
       "      <td>307</td>\n",
       "      <td>278</td>\n",
       "      <td>3077</td>\n",
       "      <td>2014</td>\n",
       "      <td>12</td>\n",
       "      <td>6</td>\n",
       "      <td>2008</td>\n",
       "      <td>22220</td>\n",
       "    </tr>\n",
       "  </tbody>\n",
       "</table>\n",
       "<p>5 rows × 23 columns</p>\n",
       "</div>"
      ],
      "text/plain": [
       "   EQUNR  TENDERNO  HATZAA_NO CAR_POSITION PRODUCT MODEL   CAR_TYPE  KM  \\\n",
       "0     23  2014-103          8        משטרה   מאזדה     6  executive  15   \n",
       "1     63  2014-103         19        משטרה   מאזדה     6  executive  14   \n",
       "2     79  2014-103         17        משטרה   מאזדה     6  executive  18   \n",
       "3    140  2020-101          7        משטרה     קיה  ריאו     family  17   \n",
       "4    512  2014-103         15        משטרה   מאזדה     3     family  32   \n",
       "\n",
       "   ENGINE_POWER ENGINE_TYPE  ... TRADE  accident_ind  \\\n",
       "0          2000       בנזין  ...     0             0   \n",
       "1          2000       בנזין  ...     0             0   \n",
       "2          2000       בנזין  ...     0             0   \n",
       "3          1400       בנזין  ...     0             0   \n",
       "4          1600       בנזין  ...     0             0   \n",
       "\n",
       "   number_of_people_in_tender  number_of_cars_in_tender  \\\n",
       "0                         307                       278   \n",
       "1                         307                       278   \n",
       "2                         307                       278   \n",
       "3                         377                       418   \n",
       "4                         307                       278   \n",
       "\n",
       "   number_of_offers_in_tender  year_of_tender  number_of_tenders_in_same_year  \\\n",
       "0                        3077            2014                              12   \n",
       "1                        3077            2014                              12   \n",
       "2                        3077            2014                              12   \n",
       "3                        5107            2020                               3   \n",
       "4                        3077            2014                              12   \n",
       "\n",
       "   AGE  DATEROAD  SALE_PRICE  \n",
       "0    5      2009       43800  \n",
       "1    5      2009       50753  \n",
       "2    4      2010       53670  \n",
       "3    5      2015       22500  \n",
       "4    6      2008       22220  \n",
       "\n",
       "[5 rows x 23 columns]"
      ]
     },
     "execution_count": 95,
     "metadata": {},
     "output_type": "execute_result"
    }
   ],
   "source": [
    "cars_df.head()"
   ]
  },
  {
   "cell_type": "code",
   "execution_count": 96,
   "metadata": {},
   "outputs": [],
   "source": [
    "# כמה רכבים עם אותו שנתון יש במכרז\n",
    "year=(cars_df.groupby(['TENDERNO','DATEROAD'])['EQUNR'].count()).reset_index()\n",
    "year = year.rename({'EQUNR':'DATEROAD_NUM'},axis=1)\n",
    "# year = year[['TENDERNO', 'DATEROAD','DATEROAD_NUM']]"
   ]
  },
  {
   "cell_type": "code",
   "execution_count": 97,
   "metadata": {},
   "outputs": [],
   "source": [
    "km=(cars_df.groupby(['TENDERNO','KM'])['EQUNR'].count()).reset_index()\n",
    "km = km.rename({'EQUNR':'KM_NUM'},axis=1)\n",
    "# km = km[['TENDERNO', 'KM','KM_NUM']]"
   ]
  },
  {
   "cell_type": "code",
   "execution_count": 98,
   "metadata": {},
   "outputs": [],
   "source": [
    "cars_df= pd.merge(cars_df, km, on =['TENDERNO', 'KM'], how='left')\n",
    "cars_df= pd.merge(cars_df, year, on =['TENDERNO', 'DATEROAD'], how='left')"
   ]
  },
  {
   "cell_type": "code",
   "execution_count": 99,
   "metadata": {},
   "outputs": [
    {
     "data": {
      "text/html": [
       "<div>\n",
       "<style scoped>\n",
       "    .dataframe tbody tr th:only-of-type {\n",
       "        vertical-align: middle;\n",
       "    }\n",
       "\n",
       "    .dataframe tbody tr th {\n",
       "        vertical-align: top;\n",
       "    }\n",
       "\n",
       "    .dataframe thead th {\n",
       "        text-align: right;\n",
       "    }\n",
       "</style>\n",
       "<table border=\"1\" class=\"dataframe\">\n",
       "  <thead>\n",
       "    <tr style=\"text-align: right;\">\n",
       "      <th></th>\n",
       "      <th>EQUNR</th>\n",
       "      <th>TENDERNO</th>\n",
       "      <th>HATZAA_NO</th>\n",
       "      <th>CAR_POSITION</th>\n",
       "      <th>PRODUCT</th>\n",
       "      <th>MODEL</th>\n",
       "      <th>CAR_TYPE</th>\n",
       "      <th>KM</th>\n",
       "      <th>ENGINE_POWER</th>\n",
       "      <th>ENGINE_TYPE</th>\n",
       "      <th>...</th>\n",
       "      <th>number_of_people_in_tender</th>\n",
       "      <th>number_of_cars_in_tender</th>\n",
       "      <th>number_of_offers_in_tender</th>\n",
       "      <th>year_of_tender</th>\n",
       "      <th>number_of_tenders_in_same_year</th>\n",
       "      <th>AGE</th>\n",
       "      <th>DATEROAD</th>\n",
       "      <th>SALE_PRICE</th>\n",
       "      <th>KM_NUM</th>\n",
       "      <th>DATEROAD_NUM</th>\n",
       "    </tr>\n",
       "  </thead>\n",
       "  <tbody>\n",
       "    <tr>\n",
       "      <td>0</td>\n",
       "      <td>23</td>\n",
       "      <td>2014-103</td>\n",
       "      <td>8</td>\n",
       "      <td>משטרה</td>\n",
       "      <td>מאזדה</td>\n",
       "      <td>6</td>\n",
       "      <td>executive</td>\n",
       "      <td>15</td>\n",
       "      <td>2000</td>\n",
       "      <td>בנזין</td>\n",
       "      <td>...</td>\n",
       "      <td>307</td>\n",
       "      <td>278</td>\n",
       "      <td>3077</td>\n",
       "      <td>2014</td>\n",
       "      <td>12</td>\n",
       "      <td>5</td>\n",
       "      <td>2009</td>\n",
       "      <td>43800</td>\n",
       "      <td>11</td>\n",
       "      <td>40</td>\n",
       "    </tr>\n",
       "    <tr>\n",
       "      <td>1</td>\n",
       "      <td>63</td>\n",
       "      <td>2014-103</td>\n",
       "      <td>19</td>\n",
       "      <td>משטרה</td>\n",
       "      <td>מאזדה</td>\n",
       "      <td>6</td>\n",
       "      <td>executive</td>\n",
       "      <td>14</td>\n",
       "      <td>2000</td>\n",
       "      <td>בנזין</td>\n",
       "      <td>...</td>\n",
       "      <td>307</td>\n",
       "      <td>278</td>\n",
       "      <td>3077</td>\n",
       "      <td>2014</td>\n",
       "      <td>12</td>\n",
       "      <td>5</td>\n",
       "      <td>2009</td>\n",
       "      <td>50753</td>\n",
       "      <td>13</td>\n",
       "      <td>40</td>\n",
       "    </tr>\n",
       "    <tr>\n",
       "      <td>2</td>\n",
       "      <td>79</td>\n",
       "      <td>2014-103</td>\n",
       "      <td>17</td>\n",
       "      <td>משטרה</td>\n",
       "      <td>מאזדה</td>\n",
       "      <td>6</td>\n",
       "      <td>executive</td>\n",
       "      <td>18</td>\n",
       "      <td>2000</td>\n",
       "      <td>בנזין</td>\n",
       "      <td>...</td>\n",
       "      <td>307</td>\n",
       "      <td>278</td>\n",
       "      <td>3077</td>\n",
       "      <td>2014</td>\n",
       "      <td>12</td>\n",
       "      <td>4</td>\n",
       "      <td>2010</td>\n",
       "      <td>53670</td>\n",
       "      <td>8</td>\n",
       "      <td>120</td>\n",
       "    </tr>\n",
       "    <tr>\n",
       "      <td>3</td>\n",
       "      <td>140</td>\n",
       "      <td>2020-101</td>\n",
       "      <td>7</td>\n",
       "      <td>משטרה</td>\n",
       "      <td>קיה</td>\n",
       "      <td>ריאו</td>\n",
       "      <td>family</td>\n",
       "      <td>17</td>\n",
       "      <td>1400</td>\n",
       "      <td>בנזין</td>\n",
       "      <td>...</td>\n",
       "      <td>377</td>\n",
       "      <td>418</td>\n",
       "      <td>5107</td>\n",
       "      <td>2020</td>\n",
       "      <td>3</td>\n",
       "      <td>5</td>\n",
       "      <td>2015</td>\n",
       "      <td>22500</td>\n",
       "      <td>12</td>\n",
       "      <td>117</td>\n",
       "    </tr>\n",
       "    <tr>\n",
       "      <td>4</td>\n",
       "      <td>512</td>\n",
       "      <td>2014-103</td>\n",
       "      <td>15</td>\n",
       "      <td>משטרה</td>\n",
       "      <td>מאזדה</td>\n",
       "      <td>3</td>\n",
       "      <td>family</td>\n",
       "      <td>32</td>\n",
       "      <td>1600</td>\n",
       "      <td>בנזין</td>\n",
       "      <td>...</td>\n",
       "      <td>307</td>\n",
       "      <td>278</td>\n",
       "      <td>3077</td>\n",
       "      <td>2014</td>\n",
       "      <td>12</td>\n",
       "      <td>6</td>\n",
       "      <td>2008</td>\n",
       "      <td>22220</td>\n",
       "      <td>2</td>\n",
       "      <td>48</td>\n",
       "    </tr>\n",
       "  </tbody>\n",
       "</table>\n",
       "<p>5 rows × 25 columns</p>\n",
       "</div>"
      ],
      "text/plain": [
       "   EQUNR  TENDERNO  HATZAA_NO CAR_POSITION PRODUCT MODEL   CAR_TYPE  KM  \\\n",
       "0     23  2014-103          8        משטרה   מאזדה     6  executive  15   \n",
       "1     63  2014-103         19        משטרה   מאזדה     6  executive  14   \n",
       "2     79  2014-103         17        משטרה   מאזדה     6  executive  18   \n",
       "3    140  2020-101          7        משטרה     קיה  ריאו     family  17   \n",
       "4    512  2014-103         15        משטרה   מאזדה     3     family  32   \n",
       "\n",
       "   ENGINE_POWER ENGINE_TYPE  ... number_of_people_in_tender  \\\n",
       "0          2000       בנזין  ...                        307   \n",
       "1          2000       בנזין  ...                        307   \n",
       "2          2000       בנזין  ...                        307   \n",
       "3          1400       בנזין  ...                        377   \n",
       "4          1600       בנזין  ...                        307   \n",
       "\n",
       "   number_of_cars_in_tender  number_of_offers_in_tender  year_of_tender  \\\n",
       "0                       278                        3077            2014   \n",
       "1                       278                        3077            2014   \n",
       "2                       278                        3077            2014   \n",
       "3                       418                        5107            2020   \n",
       "4                       278                        3077            2014   \n",
       "\n",
       "   number_of_tenders_in_same_year  AGE  DATEROAD  SALE_PRICE  KM_NUM  \\\n",
       "0                              12    5      2009       43800      11   \n",
       "1                              12    5      2009       50753      13   \n",
       "2                              12    4      2010       53670       8   \n",
       "3                               3    5      2015       22500      12   \n",
       "4                              12    6      2008       22220       2   \n",
       "\n",
       "   DATEROAD_NUM  \n",
       "0            40  \n",
       "1            40  \n",
       "2           120  \n",
       "3           117  \n",
       "4            48  \n",
       "\n",
       "[5 rows x 25 columns]"
      ]
     },
     "execution_count": 99,
     "metadata": {},
     "output_type": "execute_result"
    }
   ],
   "source": [
    "cars_df.head()"
   ]
  },
  {
   "cell_type": "code",
   "execution_count": 100,
   "metadata": {},
   "outputs": [],
   "source": [
    "# כמה רכבים מאותה קטגוריות סוג רכב היו במרכז\n",
    "car_type = cars_df.groupby(['TENDERNO','CAR_TYPE'])['EQUNR'].count().reset_index()\n",
    "car_type = car_type.rename({'EQUNR': 'CAR_TYPE_NUM'}, axis=1)\n",
    "cars_df= pd.merge(cars_df, car_type, on =['TENDERNO', 'CAR_TYPE'], how='left')"
   ]
  },
  {
   "cell_type": "code",
   "execution_count": 101,
   "metadata": {},
   "outputs": [
    {
     "data": {
      "image/png": "[encoded data removed]",
      "text/plain": [
       "<Figure size 432x288 with 1 Axes>"
      ]
     },
     "metadata": {
      "needs_background": "light"
     },
     "output_type": "display_data"
    }
   ],
   "source": [
    "df4 = cars_df.groupby('CAR_TYPE').size()\n",
    "df4 = df4.sort_values(ascending=False, inplace=False)\n",
    "ax = df4.plot(kind = 'bar', cmap=plt.cm.Set3)\n",
    "plt.yscale(\"log\")"
   ]
  },
  {
   "cell_type": "code",
   "execution_count": 102,
   "metadata": {},
   "outputs": [],
   "source": [
    "# הכנסת סוג מנוע לתוך 3 קטגוריות שונות\n",
    "ENGINE_TYPE_Category = []\n",
    "for i in cars_df['ENGINE_TYPE']:\n",
    "    if i in ('בנזין', 'בנזין 95 אוקטן - נטול עופרת', 'בנזין 95 אוקטן'):\n",
    "        ENGINE_TYPE_Category.append('Diesel')\n",
    "    elif i in ('סולר', 'סולר טורבו'):\n",
    "        ENGINE_TYPE_Category.append('Solar')\n",
    "    else: \n",
    "        ENGINE_TYPE_Category.append('Hybrid')\n",
    "                                           \n",
    "cars_df['ENGINE_TYPE_Category'] = ENGINE_TYPE_Category\n",
    "cars_df.drop('ENGINE_TYPE', axis=1, inplace=True)"
   ]
  },
  {
   "cell_type": "code",
   "execution_count": 103,
   "metadata": {},
   "outputs": [],
   "source": [
    "#חלוקה הגיר לשתי קטגוריות\n",
    "GEAR_TYPE_Category = []\n",
    "for i in cars_df['GEAR_TYPE']:\n",
    "    if i in ('robot','unknown'):\n",
    "        GEAR_TYPE_Category.append('auto')\n",
    "    else: \n",
    "        GEAR_TYPE_Category.append(i)\n",
    "                                           \n",
    "cars_df['GEAR_TYPE_Category'] = GEAR_TYPE_Category\n",
    "cars_df.drop('GEAR_TYPE', axis=1, inplace=True)"
   ]
  },
  {
   "cell_type": "code",
   "execution_count": 104,
   "metadata": {},
   "outputs": [],
   "source": [
    "cars_df=cars_df[cars_df['CAR_POSITION']!='רכב חילוט']"
   ]
  },
  {
   "cell_type": "code",
   "execution_count": 108,
   "metadata": {},
   "outputs": [
    {
     "data": {
      "text/plain": [
       "EQUNR                                    79\n",
       "TENDERNO                           2014-103\n",
       "HATZAA_NO                                17\n",
       "CAR_POSITION                          משטרה\n",
       "PRODUCT                               מאזדה\n",
       "MODEL                                     6\n",
       "CAR_TYPE                          executive\n",
       "KM                                       18\n",
       "ENGINE_POWER                           2000\n",
       "NO_OWNERS                                 0\n",
       "CNTRC                                189000\n",
       "TRADE                                     0\n",
       "accident_ind                              0\n",
       "number_of_people_in_tender              307\n",
       "number_of_cars_in_tender                278\n",
       "number_of_offers_in_tender             3077\n",
       "year_of_tender                         2014\n",
       "number_of_tenders_in_same_year           12\n",
       "AGE                                       4\n",
       "DATEROAD                               2010\n",
       "SALE_PRICE                            53670\n",
       "KM_NUM                                    8\n",
       "DATEROAD_NUM                            120\n",
       "CAR_TYPE_NUM                             19\n",
       "ENGINE_TYPE_Category                 Diesel\n",
       "GEAR_TYPE_Category                     auto\n",
       "Name: 2, dtype: object"
      ]
     },
     "execution_count": 108,
     "metadata": {},
     "output_type": "execute_result"
    }
   ],
   "source": [
    "cars_df.loc[2,:]"
   ]
  },
  {
   "cell_type": "code",
   "execution_count": 8,
   "metadata": {},
   "outputs": [
    {
     "data": {
      "text/plain": [
       "363985076"
      ]
     },
     "execution_count": 8,
     "metadata": {},
     "output_type": "execute_result"
    }
   ],
   "source": [
    "# sum of the sale price column\n",
    "cars_df['SALE_PRICE'].sum()"
   ]
  },
  {
   "cell_type": "markdown",
   "metadata": {},
   "source": [
    "### Building normalized Data Frame"
   ]
  },
  {
   "cell_type": "markdown",
   "metadata": {},
   "source": [
    "-------------נרמול של העמודות הנורמיות על ידי לוג - שימוש בקטגוריות עבור מודל וסוג מנוע--------------"
   ]
  },
  {
   "cell_type": "code",
   "execution_count": 184,
   "metadata": {},
   "outputs": [],
   "source": [
    "#מנרמלים את העמודות הנומריות על ידי שימוש בלוג\n",
    "normalized_df=cars_df.copy()\n",
    "normalized_df=normalized_df[normalized_df['CAR_TYPE']!='mini']\n",
    "normalized_df.drop(['EQUNR', 'TENDERNO','MODEL','PRODUCT'], axis=1, inplace=True)\n",
    "normalized_df=normalized_df.replace(0, np.nan)\n",
    "list_to_normalize=['HATZAA_NO','ENGINE_POWER','NO_OWNERS','number_of_people_in_tender', 'CNTRC',\n",
    "                  'number_of_cars_in_tender','number_of_offers_in_tender','year_of_tender',\n",
    "                  'number_of_tenders_in_same_year', 'KM_NUM' ,'DATEROAD_NUM', 'CAR_TYPE_NUM','AGE', 'SALE_PRICE']\n",
    "for col in list_to_normalize:\n",
    "    normalized_df[col]=np.log(normalized_df[col])  "
   ]
  },
  {
   "cell_type": "markdown",
   "metadata": {},
   "source": [
    "## 1. OLS REGRESSION on normalized DF"
   ]
  },
  {
   "cell_type": "code",
   "execution_count": 185,
   "metadata": {},
   "outputs": [],
   "source": [
    "# הפיכת משתנים קטגוריאליים למשתני דמי\n",
    "normalized_df=normalized_df.replace(np.nan, 0)\n",
    "\n",
    "X= normalized_df.drop(['SALE_PRICE','HATZAA_NO','accident_ind','number_of_people_in_tender','year_of_tender', 'DATEROAD','KM'], axis=1)\n",
    "X=pd.get_dummies(X, prefix=None, drop_first=True)\n",
    "Y= normalized_df['SALE_PRICE']\n",
    "\n",
    "X['KM_family']=X['CNTRC']*X['CAR_TYPE_family']\n",
    "X['KM_large']=X['CNTRC']*X['CAR_TYPE_large']\n",
    "X['KM_jeep']=X['CNTRC']*X['CAR_TYPE_jeep']\n",
    "#X['KM_mini']=X['CNTRC']*X['CAR_TYPE_mini']\n",
    "X['KM_motorcycle']=X['CNTRC']*X['CAR_TYPE_motorcycle']"
   ]
  },
  {
   "cell_type": "code",
   "execution_count": 186,
   "metadata": {},
   "outputs": [
    {
     "data": {
      "text/html": [
       "<table class=\"simpletable\">\n",
       "<caption>OLS Regression Results</caption>\n",
       "<tr>\n",
       "  <th>Dep. Variable:</th>       <td>SALE_PRICE</td>    <th>  R-squared:         </th> <td>   0.628</td> \n",
       "</tr>\n",
       "<tr>\n",
       "  <th>Model:</th>                   <td>OLS</td>       <th>  Adj. R-squared:    </th> <td>   0.627</td> \n",
       "</tr>\n",
       "<tr>\n",
       "  <th>Method:</th>             <td>Least Squares</td>  <th>  F-statistic:       </th> <td>   652.2</td> \n",
       "</tr>\n",
       "<tr>\n",
       "  <th>Date:</th>             <td>Sat, 27 Jun 2020</td> <th>  Prob (F-statistic):</th>  <td>  0.00</td>  \n",
       "</tr>\n",
       "<tr>\n",
       "  <th>Time:</th>                 <td>23:16:30</td>     <th>  Log-Likelihood:    </th> <td> -5614.1</td> \n",
       "</tr>\n",
       "<tr>\n",
       "  <th>No. Observations:</th>      <td>  9301</td>      <th>  AIC:               </th> <td>1.128e+04</td>\n",
       "</tr>\n",
       "<tr>\n",
       "  <th>Df Residuals:</th>          <td>  9276</td>      <th>  BIC:               </th> <td>1.146e+04</td>\n",
       "</tr>\n",
       "<tr>\n",
       "  <th>Df Model:</th>              <td>    24</td>      <th>                     </th>     <td> </td>    \n",
       "</tr>\n",
       "<tr>\n",
       "  <th>Covariance Type:</th>      <td>nonrobust</td>    <th>                     </th>     <td> </td>    \n",
       "</tr>\n",
       "</table>\n",
       "<table class=\"simpletable\">\n",
       "<tr>\n",
       "                 <td></td>                   <th>coef</th>     <th>std err</th>      <th>t</th>      <th>P>|t|</th>  <th>[0.025</th>    <th>0.975]</th>  \n",
       "</tr>\n",
       "<tr>\n",
       "  <th>const</th>                          <td>   11.8297</td> <td>    0.433</td> <td>   27.350</td> <td> 0.000</td> <td>   10.982</td> <td>   12.678</td>\n",
       "</tr>\n",
       "<tr>\n",
       "  <th>ENGINE_POWER</th>                   <td>    0.1754</td> <td>    0.011</td> <td>   15.542</td> <td> 0.000</td> <td>    0.153</td> <td>    0.198</td>\n",
       "</tr>\n",
       "<tr>\n",
       "  <th>NO_OWNERS</th>                      <td>   -0.9893</td> <td>    0.109</td> <td>   -9.068</td> <td> 0.000</td> <td>   -1.203</td> <td>   -0.775</td>\n",
       "</tr>\n",
       "<tr>\n",
       "  <th>CNTRC</th>                          <td>   -0.2060</td> <td>    0.033</td> <td>   -6.273</td> <td> 0.000</td> <td>   -0.270</td> <td>   -0.142</td>\n",
       "</tr>\n",
       "<tr>\n",
       "  <th>TRADE</th>                          <td>   -1.3533</td> <td>    0.070</td> <td>  -19.338</td> <td> 0.000</td> <td>   -1.490</td> <td>   -1.216</td>\n",
       "</tr>\n",
       "<tr>\n",
       "  <th>number_of_cars_in_tender</th>       <td>   -0.2221</td> <td>    0.029</td> <td>   -7.664</td> <td> 0.000</td> <td>   -0.279</td> <td>   -0.165</td>\n",
       "</tr>\n",
       "<tr>\n",
       "  <th>number_of_offers_in_tender</th>     <td>    0.1759</td> <td>    0.026</td> <td>    6.719</td> <td> 0.000</td> <td>    0.125</td> <td>    0.227</td>\n",
       "</tr>\n",
       "<tr>\n",
       "  <th>number_of_tenders_in_same_year</th> <td>   -0.0841</td> <td>    0.014</td> <td>   -6.089</td> <td> 0.000</td> <td>   -0.111</td> <td>   -0.057</td>\n",
       "</tr>\n",
       "<tr>\n",
       "  <th>AGE</th>                            <td>   -0.1807</td> <td>    0.021</td> <td>   -8.413</td> <td> 0.000</td> <td>   -0.223</td> <td>   -0.139</td>\n",
       "</tr>\n",
       "<tr>\n",
       "  <th>KM_NUM</th>                         <td>    0.0299</td> <td>    0.007</td> <td>    4.240</td> <td> 0.000</td> <td>    0.016</td> <td>    0.044</td>\n",
       "</tr>\n",
       "<tr>\n",
       "  <th>DATEROAD_NUM</th>                   <td>    0.0673</td> <td>    0.005</td> <td>   13.061</td> <td> 0.000</td> <td>    0.057</td> <td>    0.077</td>\n",
       "</tr>\n",
       "<tr>\n",
       "  <th>CAR_TYPE_NUM</th>                   <td>   -0.0790</td> <td>    0.010</td> <td>   -8.112</td> <td> 0.000</td> <td>   -0.098</td> <td>   -0.060</td>\n",
       "</tr>\n",
       "<tr>\n",
       "  <th>CAR_POSITION_מינהל הרכב</th>        <td>    0.1294</td> <td>    0.014</td> <td>    8.983</td> <td> 0.000</td> <td>    0.101</td> <td>    0.158</td>\n",
       "</tr>\n",
       "<tr>\n",
       "  <th>CAR_POSITION_משטרה</th>             <td>    0.0363</td> <td>    0.017</td> <td>    2.161</td> <td> 0.031</td> <td>    0.003</td> <td>    0.069</td>\n",
       "</tr>\n",
       "<tr>\n",
       "  <th>CAR_TYPE_family</th>                <td>   -1.6216</td> <td>    0.430</td> <td>   -3.768</td> <td> 0.000</td> <td>   -2.465</td> <td>   -0.778</td>\n",
       "</tr>\n",
       "<tr>\n",
       "  <th>CAR_TYPE_jeep</th>                  <td>   -2.5658</td> <td>    0.501</td> <td>   -5.125</td> <td> 0.000</td> <td>   -3.547</td> <td>   -1.584</td>\n",
       "</tr>\n",
       "<tr>\n",
       "  <th>CAR_TYPE_large</th>                 <td>   -2.8582</td> <td>    0.472</td> <td>   -6.054</td> <td> 0.000</td> <td>   -3.784</td> <td>   -1.933</td>\n",
       "</tr>\n",
       "<tr>\n",
       "  <th>CAR_TYPE_motorcycle</th>            <td>   -5.9889</td> <td>    0.491</td> <td>  -12.194</td> <td> 0.000</td> <td>   -6.952</td> <td>   -5.026</td>\n",
       "</tr>\n",
       "<tr>\n",
       "  <th>ENGINE_TYPE_Category_Hybrid</th>    <td>    0.1703</td> <td>    0.024</td> <td>    7.192</td> <td> 0.000</td> <td>    0.124</td> <td>    0.217</td>\n",
       "</tr>\n",
       "<tr>\n",
       "  <th>ENGINE_TYPE_Category_Solar</th>     <td>    0.1794</td> <td>    0.026</td> <td>    6.992</td> <td> 0.000</td> <td>    0.129</td> <td>    0.230</td>\n",
       "</tr>\n",
       "<tr>\n",
       "  <th>GEAR_TYPE_Category_manual</th>      <td>    0.0687</td> <td>    0.017</td> <td>    4.065</td> <td> 0.000</td> <td>    0.036</td> <td>    0.102</td>\n",
       "</tr>\n",
       "<tr>\n",
       "  <th>KM_family</th>                      <td>    0.1225</td> <td>    0.035</td> <td>    3.468</td> <td> 0.001</td> <td>    0.053</td> <td>    0.192</td>\n",
       "</tr>\n",
       "<tr>\n",
       "  <th>KM_large</th>                       <td>    0.2431</td> <td>    0.038</td> <td>    6.334</td> <td> 0.000</td> <td>    0.168</td> <td>    0.318</td>\n",
       "</tr>\n",
       "<tr>\n",
       "  <th>KM_jeep</th>                        <td>    0.2515</td> <td>    0.040</td> <td>    6.216</td> <td> 0.000</td> <td>    0.172</td> <td>    0.331</td>\n",
       "</tr>\n",
       "<tr>\n",
       "  <th>KM_motorcycle</th>                  <td>    0.4061</td> <td>    0.042</td> <td>    9.598</td> <td> 0.000</td> <td>    0.323</td> <td>    0.489</td>\n",
       "</tr>\n",
       "</table>\n",
       "<table class=\"simpletable\">\n",
       "<tr>\n",
       "  <th>Omnibus:</th>       <td>1154.353</td> <th>  Durbin-Watson:     </th> <td>   1.177</td>\n",
       "</tr>\n",
       "<tr>\n",
       "  <th>Prob(Omnibus):</th>  <td> 0.000</td>  <th>  Jarque-Bera (JB):  </th> <td>4919.594</td>\n",
       "</tr>\n",
       "<tr>\n",
       "  <th>Skew:</th>           <td>-0.552</td>  <th>  Prob(JB):          </th> <td>    0.00</td>\n",
       "</tr>\n",
       "<tr>\n",
       "  <th>Kurtosis:</th>       <td> 6.387</td>  <th>  Cond. No.          </th> <td>4.01e+03</td>\n",
       "</tr>\n",
       "</table><br/><br/>Warnings:<br/>[1] Standard Errors assume that the covariance matrix of the errors is correctly specified.<br/>[2] The condition number is large, 4.01e+03. This might indicate that there are<br/>strong multicollinearity or other numerical problems."
      ],
      "text/plain": [
       "<class 'statsmodels.iolib.summary.Summary'>\n",
       "\"\"\"\n",
       "                            OLS Regression Results                            \n",
       "==============================================================================\n",
       "Dep. Variable:             SALE_PRICE   R-squared:                       0.628\n",
       "Model:                            OLS   Adj. R-squared:                  0.627\n",
       "Method:                 Least Squares   F-statistic:                     652.2\n",
       "Date:                Sat, 27 Jun 2020   Prob (F-statistic):               0.00\n",
       "Time:                        23:16:30   Log-Likelihood:                -5614.1\n",
       "No. Observations:                9301   AIC:                         1.128e+04\n",
       "Df Residuals:                    9276   BIC:                         1.146e+04\n",
       "Df Model:                          24                                         \n",
       "Covariance Type:            nonrobust                                         \n",
       "==================================================================================================\n",
       "                                     coef    std err          t      P>|t|      [0.025      0.975]\n",
       "--------------------------------------------------------------------------------------------------\n",
       "const                             11.8297      0.433     27.350      0.000      10.982      12.678\n",
       "ENGINE_POWER                       0.1754      0.011     15.542      0.000       0.153       0.198\n",
       "NO_OWNERS                         -0.9893      0.109     -9.068      0.000      -1.203      -0.775\n",
       "CNTRC                             -0.2060      0.033     -6.273      0.000      -0.270      -0.142\n",
       "TRADE                             -1.3533      0.070    -19.338      0.000      -1.490      -1.216\n",
       "number_of_cars_in_tender          -0.2221      0.029     -7.664      0.000      -0.279      -0.165\n",
       "number_of_offers_in_tender         0.1759      0.026      6.719      0.000       0.125       0.227\n",
       "number_of_tenders_in_same_year    -0.0841      0.014     -6.089      0.000      -0.111      -0.057\n",
       "AGE                               -0.1807      0.021     -8.413      0.000      -0.223      -0.139\n",
       "KM_NUM                             0.0299      0.007      4.240      0.000       0.016       0.044\n",
       "DATEROAD_NUM                       0.0673      0.005     13.061      0.000       0.057       0.077\n",
       "CAR_TYPE_NUM                      -0.0790      0.010     -8.112      0.000      -0.098      -0.060\n",
       "CAR_POSITION_מינהל הרכב            0.1294      0.014      8.983      0.000       0.101       0.158\n",
       "CAR_POSITION_משטרה                 0.0363      0.017      2.161      0.031       0.003       0.069\n",
       "CAR_TYPE_family                   -1.6216      0.430     -3.768      0.000      -2.465      -0.778\n",
       "CAR_TYPE_jeep                     -2.5658      0.501     -5.125      0.000      -3.547      -1.584\n",
       "CAR_TYPE_large                    -2.8582      0.472     -6.054      0.000      -3.784      -1.933\n",
       "CAR_TYPE_motorcycle               -5.9889      0.491    -12.194      0.000      -6.952      -5.026\n",
       "ENGINE_TYPE_Category_Hybrid        0.1703      0.024      7.192      0.000       0.124       0.217\n",
       "ENGINE_TYPE_Category_Solar         0.1794      0.026      6.992      0.000       0.129       0.230\n",
       "GEAR_TYPE_Category_manual          0.0687      0.017      4.065      0.000       0.036       0.102\n",
       "KM_family                          0.1225      0.035      3.468      0.001       0.053       0.192\n",
       "KM_large                           0.2431      0.038      6.334      0.000       0.168       0.318\n",
       "KM_jeep                            0.2515      0.040      6.216      0.000       0.172       0.331\n",
       "KM_motorcycle                      0.4061      0.042      9.598      0.000       0.323       0.489\n",
       "==============================================================================\n",
       "Omnibus:                     1154.353   Durbin-Watson:                   1.177\n",
       "Prob(Omnibus):                  0.000   Jarque-Bera (JB):             4919.594\n",
       "Skew:                          -0.552   Prob(JB):                         0.00\n",
       "Kurtosis:                       6.387   Cond. No.                     4.01e+03\n",
       "==============================================================================\n",
       "\n",
       "Warnings:\n",
       "[1] Standard Errors assume that the covariance matrix of the errors is correctly specified.\n",
       "[2] The condition number is large, 4.01e+03. This might indicate that there are\n",
       "strong multicollinearity or other numerical problems.\n",
       "\"\"\""
      ]
     },
     "execution_count": 186,
     "metadata": {},
     "output_type": "execute_result"
    }
   ],
   "source": [
    "import statsmodels.api as sm\n",
    "X = sm.add_constant(X) ##let's add an intercept to our model\n",
    "reg_model= sm.OLS(Y,X).fit()\n",
    "predictions = reg_model.predict(X)\n",
    "reg_model.summary()"
   ]
  },
  {
   "cell_type": "code",
   "execution_count": 150,
   "metadata": {},
   "outputs": [
    {
     "data": {
      "text/html": [
       "<div>\n",
       "<style scoped>\n",
       "    .dataframe tbody tr th:only-of-type {\n",
       "        vertical-align: middle;\n",
       "    }\n",
       "\n",
       "    .dataframe tbody tr th {\n",
       "        vertical-align: top;\n",
       "    }\n",
       "\n",
       "    .dataframe thead th {\n",
       "        text-align: right;\n",
       "    }\n",
       "</style>\n",
       "<table border=\"1\" class=\"dataframe\">\n",
       "  <thead>\n",
       "    <tr style=\"text-align: right;\">\n",
       "      <th></th>\n",
       "      <th>const</th>\n",
       "      <th>ENGINE_POWER</th>\n",
       "      <th>NO_OWNERS</th>\n",
       "      <th>CNTRC</th>\n",
       "      <th>TRADE</th>\n",
       "      <th>number_of_cars_in_tender</th>\n",
       "      <th>number_of_offers_in_tender</th>\n",
       "      <th>number_of_tenders_in_same_year</th>\n",
       "      <th>AGE</th>\n",
       "      <th>KM_NUM</th>\n",
       "      <th>...</th>\n",
       "      <th>CAR_TYPE_jeep</th>\n",
       "      <th>CAR_TYPE_large</th>\n",
       "      <th>CAR_TYPE_motorcycle</th>\n",
       "      <th>ENGINE_TYPE_Category_Hybrid</th>\n",
       "      <th>ENGINE_TYPE_Category_Solar</th>\n",
       "      <th>GEAR_TYPE_Category_manual</th>\n",
       "      <th>KM_family</th>\n",
       "      <th>KM_large</th>\n",
       "      <th>KM_jeep</th>\n",
       "      <th>KM_motorcycle</th>\n",
       "    </tr>\n",
       "  </thead>\n",
       "  <tbody>\n",
       "    <tr>\n",
       "      <td>0</td>\n",
       "      <td>1.0</td>\n",
       "      <td>7.600902</td>\n",
       "      <td>0.0</td>\n",
       "      <td>11.951180</td>\n",
       "      <td>0.0</td>\n",
       "      <td>5.627621</td>\n",
       "      <td>8.031710</td>\n",
       "      <td>2.484907</td>\n",
       "      <td>1.609438</td>\n",
       "      <td>2.397895</td>\n",
       "      <td>...</td>\n",
       "      <td>0</td>\n",
       "      <td>0</td>\n",
       "      <td>0</td>\n",
       "      <td>0</td>\n",
       "      <td>0</td>\n",
       "      <td>0</td>\n",
       "      <td>0.000000</td>\n",
       "      <td>0.0</td>\n",
       "      <td>0.0</td>\n",
       "      <td>0.0</td>\n",
       "    </tr>\n",
       "    <tr>\n",
       "      <td>1</td>\n",
       "      <td>1.0</td>\n",
       "      <td>7.600902</td>\n",
       "      <td>0.0</td>\n",
       "      <td>11.884489</td>\n",
       "      <td>0.0</td>\n",
       "      <td>5.627621</td>\n",
       "      <td>8.031710</td>\n",
       "      <td>2.484907</td>\n",
       "      <td>1.609438</td>\n",
       "      <td>2.564949</td>\n",
       "      <td>...</td>\n",
       "      <td>0</td>\n",
       "      <td>0</td>\n",
       "      <td>0</td>\n",
       "      <td>0</td>\n",
       "      <td>0</td>\n",
       "      <td>0</td>\n",
       "      <td>0.000000</td>\n",
       "      <td>0.0</td>\n",
       "      <td>0.0</td>\n",
       "      <td>0.0</td>\n",
       "    </tr>\n",
       "    <tr>\n",
       "      <td>2</td>\n",
       "      <td>1.0</td>\n",
       "      <td>7.600902</td>\n",
       "      <td>0.0</td>\n",
       "      <td>12.149502</td>\n",
       "      <td>0.0</td>\n",
       "      <td>5.627621</td>\n",
       "      <td>8.031710</td>\n",
       "      <td>2.484907</td>\n",
       "      <td>1.386294</td>\n",
       "      <td>2.079442</td>\n",
       "      <td>...</td>\n",
       "      <td>0</td>\n",
       "      <td>0</td>\n",
       "      <td>0</td>\n",
       "      <td>0</td>\n",
       "      <td>0</td>\n",
       "      <td>0</td>\n",
       "      <td>0.000000</td>\n",
       "      <td>0.0</td>\n",
       "      <td>0.0</td>\n",
       "      <td>0.0</td>\n",
       "    </tr>\n",
       "    <tr>\n",
       "      <td>3</td>\n",
       "      <td>1.0</td>\n",
       "      <td>7.244228</td>\n",
       "      <td>0.0</td>\n",
       "      <td>12.077102</td>\n",
       "      <td>0.0</td>\n",
       "      <td>6.035481</td>\n",
       "      <td>8.538367</td>\n",
       "      <td>1.098612</td>\n",
       "      <td>1.609438</td>\n",
       "      <td>2.484907</td>\n",
       "      <td>...</td>\n",
       "      <td>0</td>\n",
       "      <td>0</td>\n",
       "      <td>0</td>\n",
       "      <td>0</td>\n",
       "      <td>0</td>\n",
       "      <td>0</td>\n",
       "      <td>12.077102</td>\n",
       "      <td>0.0</td>\n",
       "      <td>0.0</td>\n",
       "      <td>0.0</td>\n",
       "    </tr>\n",
       "    <tr>\n",
       "      <td>4</td>\n",
       "      <td>1.0</td>\n",
       "      <td>7.377759</td>\n",
       "      <td>0.0</td>\n",
       "      <td>12.679196</td>\n",
       "      <td>0.0</td>\n",
       "      <td>5.627621</td>\n",
       "      <td>8.031710</td>\n",
       "      <td>2.484907</td>\n",
       "      <td>1.791759</td>\n",
       "      <td>0.693147</td>\n",
       "      <td>...</td>\n",
       "      <td>0</td>\n",
       "      <td>0</td>\n",
       "      <td>0</td>\n",
       "      <td>0</td>\n",
       "      <td>0</td>\n",
       "      <td>0</td>\n",
       "      <td>12.679196</td>\n",
       "      <td>0.0</td>\n",
       "      <td>0.0</td>\n",
       "      <td>0.0</td>\n",
       "    </tr>\n",
       "  </tbody>\n",
       "</table>\n",
       "<p>5 rows × 25 columns</p>\n",
       "</div>"
      ],
      "text/plain": [
       "   const  ENGINE_POWER  NO_OWNERS      CNTRC  TRADE  number_of_cars_in_tender  \\\n",
       "0    1.0      7.600902        0.0  11.951180    0.0                  5.627621   \n",
       "1    1.0      7.600902        0.0  11.884489    0.0                  5.627621   \n",
       "2    1.0      7.600902        0.0  12.149502    0.0                  5.627621   \n",
       "3    1.0      7.244228        0.0  12.077102    0.0                  6.035481   \n",
       "4    1.0      7.377759        0.0  12.679196    0.0                  5.627621   \n",
       "\n",
       "   number_of_offers_in_tender  number_of_tenders_in_same_year       AGE  \\\n",
       "0                    8.031710                        2.484907  1.609438   \n",
       "1                    8.031710                        2.484907  1.609438   \n",
       "2                    8.031710                        2.484907  1.386294   \n",
       "3                    8.538367                        1.098612  1.609438   \n",
       "4                    8.031710                        2.484907  1.791759   \n",
       "\n",
       "     KM_NUM  ...  CAR_TYPE_jeep  CAR_TYPE_large  CAR_TYPE_motorcycle  \\\n",
       "0  2.397895  ...              0               0                    0   \n",
       "1  2.564949  ...              0               0                    0   \n",
       "2  2.079442  ...              0               0                    0   \n",
       "3  2.484907  ...              0               0                    0   \n",
       "4  0.693147  ...              0               0                    0   \n",
       "\n",
       "   ENGINE_TYPE_Category_Hybrid  ENGINE_TYPE_Category_Solar  \\\n",
       "0                            0                           0   \n",
       "1                            0                           0   \n",
       "2                            0                           0   \n",
       "3                            0                           0   \n",
       "4                            0                           0   \n",
       "\n",
       "   GEAR_TYPE_Category_manual  KM_family  KM_large  KM_jeep  KM_motorcycle  \n",
       "0                          0   0.000000       0.0      0.0            0.0  \n",
       "1                          0   0.000000       0.0      0.0            0.0  \n",
       "2                          0   0.000000       0.0      0.0            0.0  \n",
       "3                          0  12.077102       0.0      0.0            0.0  \n",
       "4                          0  12.679196       0.0      0.0            0.0  \n",
       "\n",
       "[5 rows x 25 columns]"
      ]
     },
     "execution_count": 150,
     "metadata": {},
     "output_type": "execute_result"
    }
   ],
   "source": [
    "X.head()"
   ]
  },
  {
   "cell_type": "code",
   "execution_count": 167,
   "metadata": {},
   "outputs": [],
   "source": [
    "import math\n",
    "b = math.exp(predictions[2])"
   ]
  },
  {
   "cell_type": "code",
   "execution_count": 114,
   "metadata": {
    "scrolled": true
   },
   "outputs": [
    {
     "data": {
      "text/plain": [
       "const                              1.000000\n",
       "ENGINE_POWER                       7.600902\n",
       "NO_OWNERS                          0.000000\n",
       "CNTRC                             12.149502\n",
       "TRADE                              0.000000\n",
       "number_of_cars_in_tender           5.627621\n",
       "number_of_offers_in_tender         8.031710\n",
       "number_of_tenders_in_same_year     2.484907\n",
       "AGE                                1.386294\n",
       "KM_NUM                             2.079442\n",
       "DATEROAD_NUM                       4.787492\n",
       "CAR_TYPE_NUM                       2.944439\n",
       "CAR_POSITION_מינהל הרכב            0.000000\n",
       "CAR_POSITION_משטרה                 1.000000\n",
       "CAR_TYPE_family                    0.000000\n",
       "CAR_TYPE_jeep                      0.000000\n",
       "CAR_TYPE_large                     0.000000\n",
       "CAR_TYPE_motorcycle                0.000000\n",
       "ENGINE_TYPE_Category_Hybrid        0.000000\n",
       "ENGINE_TYPE_Category_Solar         0.000000\n",
       "GEAR_TYPE_Category_manual          0.000000\n",
       "KM_family                          0.000000\n",
       "KM_large                           0.000000\n",
       "KM_jeep                            0.000000\n",
       "KM_motorcycle                      0.000000\n",
       "Name: 2, dtype: float64"
      ]
     },
     "execution_count": 114,
     "metadata": {},
     "output_type": "execute_result"
    }
   ],
   "source": [
    "X.loc[2,:]"
   ]
  },
  {
   "cell_type": "code",
   "execution_count": 157,
   "metadata": {},
   "outputs": [],
   "source": [
    "X['number_of_cars_in_tender'] = np.log(200)\n",
    "X['CAR_TYPE_NUM'] = np.log(180)\n",
    "X['KM_NUM'] = np.log(180)\n",
    "X['DATEROAD_NUM'] = np.log(180)\n",
    "# X.drop('const', axis=1, inplace=True)"
   ]
  },
  {
   "cell_type": "code",
   "execution_count": 152,
   "metadata": {},
   "outputs": [
    {
     "data": {
      "text/html": [
       "<div>\n",
       "<style scoped>\n",
       "    .dataframe tbody tr th:only-of-type {\n",
       "        vertical-align: middle;\n",
       "    }\n",
       "\n",
       "    .dataframe tbody tr th {\n",
       "        vertical-align: top;\n",
       "    }\n",
       "\n",
       "    .dataframe thead th {\n",
       "        text-align: right;\n",
       "    }\n",
       "</style>\n",
       "<table border=\"1\" class=\"dataframe\">\n",
       "  <thead>\n",
       "    <tr style=\"text-align: right;\">\n",
       "      <th></th>\n",
       "      <th>ENGINE_POWER</th>\n",
       "      <th>NO_OWNERS</th>\n",
       "      <th>CNTRC</th>\n",
       "      <th>TRADE</th>\n",
       "      <th>number_of_cars_in_tender</th>\n",
       "      <th>number_of_offers_in_tender</th>\n",
       "      <th>number_of_tenders_in_same_year</th>\n",
       "      <th>AGE</th>\n",
       "      <th>KM_NUM</th>\n",
       "      <th>DATEROAD_NUM</th>\n",
       "      <th>...</th>\n",
       "      <th>CAR_TYPE_jeep</th>\n",
       "      <th>CAR_TYPE_large</th>\n",
       "      <th>CAR_TYPE_motorcycle</th>\n",
       "      <th>ENGINE_TYPE_Category_Hybrid</th>\n",
       "      <th>ENGINE_TYPE_Category_Solar</th>\n",
       "      <th>GEAR_TYPE_Category_manual</th>\n",
       "      <th>KM_family</th>\n",
       "      <th>KM_large</th>\n",
       "      <th>KM_jeep</th>\n",
       "      <th>KM_motorcycle</th>\n",
       "    </tr>\n",
       "  </thead>\n",
       "  <tbody>\n",
       "    <tr>\n",
       "      <td>0</td>\n",
       "      <td>7.600902</td>\n",
       "      <td>0.0</td>\n",
       "      <td>11.951180</td>\n",
       "      <td>0.0</td>\n",
       "      <td>5.298317</td>\n",
       "      <td>8.031710</td>\n",
       "      <td>2.484907</td>\n",
       "      <td>1.609438</td>\n",
       "      <td>5.192957</td>\n",
       "      <td>5.192957</td>\n",
       "      <td>...</td>\n",
       "      <td>0</td>\n",
       "      <td>0</td>\n",
       "      <td>0</td>\n",
       "      <td>0</td>\n",
       "      <td>0</td>\n",
       "      <td>0</td>\n",
       "      <td>0.000000</td>\n",
       "      <td>0.0</td>\n",
       "      <td>0.0</td>\n",
       "      <td>0.0</td>\n",
       "    </tr>\n",
       "    <tr>\n",
       "      <td>1</td>\n",
       "      <td>7.600902</td>\n",
       "      <td>0.0</td>\n",
       "      <td>11.884489</td>\n",
       "      <td>0.0</td>\n",
       "      <td>5.298317</td>\n",
       "      <td>8.031710</td>\n",
       "      <td>2.484907</td>\n",
       "      <td>1.609438</td>\n",
       "      <td>5.192957</td>\n",
       "      <td>5.192957</td>\n",
       "      <td>...</td>\n",
       "      <td>0</td>\n",
       "      <td>0</td>\n",
       "      <td>0</td>\n",
       "      <td>0</td>\n",
       "      <td>0</td>\n",
       "      <td>0</td>\n",
       "      <td>0.000000</td>\n",
       "      <td>0.0</td>\n",
       "      <td>0.0</td>\n",
       "      <td>0.0</td>\n",
       "    </tr>\n",
       "    <tr>\n",
       "      <td>2</td>\n",
       "      <td>7.600902</td>\n",
       "      <td>0.0</td>\n",
       "      <td>12.149502</td>\n",
       "      <td>0.0</td>\n",
       "      <td>5.298317</td>\n",
       "      <td>8.031710</td>\n",
       "      <td>2.484907</td>\n",
       "      <td>1.386294</td>\n",
       "      <td>5.192957</td>\n",
       "      <td>5.192957</td>\n",
       "      <td>...</td>\n",
       "      <td>0</td>\n",
       "      <td>0</td>\n",
       "      <td>0</td>\n",
       "      <td>0</td>\n",
       "      <td>0</td>\n",
       "      <td>0</td>\n",
       "      <td>0.000000</td>\n",
       "      <td>0.0</td>\n",
       "      <td>0.0</td>\n",
       "      <td>0.0</td>\n",
       "    </tr>\n",
       "    <tr>\n",
       "      <td>3</td>\n",
       "      <td>7.244228</td>\n",
       "      <td>0.0</td>\n",
       "      <td>12.077102</td>\n",
       "      <td>0.0</td>\n",
       "      <td>5.298317</td>\n",
       "      <td>8.538367</td>\n",
       "      <td>1.098612</td>\n",
       "      <td>1.609438</td>\n",
       "      <td>5.192957</td>\n",
       "      <td>5.192957</td>\n",
       "      <td>...</td>\n",
       "      <td>0</td>\n",
       "      <td>0</td>\n",
       "      <td>0</td>\n",
       "      <td>0</td>\n",
       "      <td>0</td>\n",
       "      <td>0</td>\n",
       "      <td>12.077102</td>\n",
       "      <td>0.0</td>\n",
       "      <td>0.0</td>\n",
       "      <td>0.0</td>\n",
       "    </tr>\n",
       "    <tr>\n",
       "      <td>4</td>\n",
       "      <td>7.377759</td>\n",
       "      <td>0.0</td>\n",
       "      <td>12.679196</td>\n",
       "      <td>0.0</td>\n",
       "      <td>5.298317</td>\n",
       "      <td>8.031710</td>\n",
       "      <td>2.484907</td>\n",
       "      <td>1.791759</td>\n",
       "      <td>5.192957</td>\n",
       "      <td>5.192957</td>\n",
       "      <td>...</td>\n",
       "      <td>0</td>\n",
       "      <td>0</td>\n",
       "      <td>0</td>\n",
       "      <td>0</td>\n",
       "      <td>0</td>\n",
       "      <td>0</td>\n",
       "      <td>12.679196</td>\n",
       "      <td>0.0</td>\n",
       "      <td>0.0</td>\n",
       "      <td>0.0</td>\n",
       "    </tr>\n",
       "  </tbody>\n",
       "</table>\n",
       "<p>5 rows × 24 columns</p>\n",
       "</div>"
      ],
      "text/plain": [
       "   ENGINE_POWER  NO_OWNERS      CNTRC  TRADE  number_of_cars_in_tender  \\\n",
       "0      7.600902        0.0  11.951180    0.0                  5.298317   \n",
       "1      7.600902        0.0  11.884489    0.0                  5.298317   \n",
       "2      7.600902        0.0  12.149502    0.0                  5.298317   \n",
       "3      7.244228        0.0  12.077102    0.0                  5.298317   \n",
       "4      7.377759        0.0  12.679196    0.0                  5.298317   \n",
       "\n",
       "   number_of_offers_in_tender  number_of_tenders_in_same_year       AGE  \\\n",
       "0                    8.031710                        2.484907  1.609438   \n",
       "1                    8.031710                        2.484907  1.609438   \n",
       "2                    8.031710                        2.484907  1.386294   \n",
       "3                    8.538367                        1.098612  1.609438   \n",
       "4                    8.031710                        2.484907  1.791759   \n",
       "\n",
       "     KM_NUM  DATEROAD_NUM  ...  CAR_TYPE_jeep  CAR_TYPE_large  \\\n",
       "0  5.192957      5.192957  ...              0               0   \n",
       "1  5.192957      5.192957  ...              0               0   \n",
       "2  5.192957      5.192957  ...              0               0   \n",
       "3  5.192957      5.192957  ...              0               0   \n",
       "4  5.192957      5.192957  ...              0               0   \n",
       "\n",
       "   CAR_TYPE_motorcycle  ENGINE_TYPE_Category_Hybrid  \\\n",
       "0                    0                            0   \n",
       "1                    0                            0   \n",
       "2                    0                            0   \n",
       "3                    0                            0   \n",
       "4                    0                            0   \n",
       "\n",
       "   ENGINE_TYPE_Category_Solar  GEAR_TYPE_Category_manual  KM_family  KM_large  \\\n",
       "0                           0                          0   0.000000       0.0   \n",
       "1                           0                          0   0.000000       0.0   \n",
       "2                           0                          0   0.000000       0.0   \n",
       "3                           0                          0  12.077102       0.0   \n",
       "4                           0                          0  12.679196       0.0   \n",
       "\n",
       "   KM_jeep  KM_motorcycle  \n",
       "0      0.0            0.0  \n",
       "1      0.0            0.0  \n",
       "2      0.0            0.0  \n",
       "3      0.0            0.0  \n",
       "4      0.0            0.0  \n",
       "\n",
       "[5 rows x 24 columns]"
      ]
     },
     "execution_count": 152,
     "metadata": {},
     "output_type": "execute_result"
    }
   ],
   "source": [
    "X.head()"
   ]
  },
  {
   "cell_type": "code",
   "execution_count": 158,
   "metadata": {},
   "outputs": [],
   "source": [
    "perdictions_2 = reg_model.predict(X)"
   ]
  },
  {
   "cell_type": "code",
   "execution_count": 168,
   "metadata": {},
   "outputs": [],
   "source": [
    "a = math.exp(perdictions_2.loc[2])"
   ]
  },
  {
   "cell_type": "code",
   "execution_count": null,
   "metadata": {},
   "outputs": [],
   "source": [
    "normalized_df_new = normalized_df.loc[1,:].copy()"
   ]
  },
  {
   "cell_type": "code",
   "execution_count": 176,
   "metadata": {},
   "outputs": [
    {
     "data": {
      "text/plain": [
       "322376736.2629603"
      ]
     },
     "execution_count": 176,
     "metadata": {},
     "output_type": "execute_result"
    }
   ],
   "source": [
    "# כך המודל ניבא לפני ששינינו פרמטרים בהתאם להמלצות\n",
    "import math\n",
    "l = [math.exp(i) for i in predictions]\n",
    "sum(l)"
   ]
  },
  {
   "cell_type": "code",
   "execution_count": 179,
   "metadata": {},
   "outputs": [
    {
     "data": {
      "application/vnd.jupyter.widget-view+json": {
       "model_id": "96b3bcab82c246d89157a9fa8a0c9734",
       "version_major": 2,
       "version_minor": 0
      },
      "text/plain": [
       "HBox(children=(IntProgress(value=0, max=9), HTML(value='')))"
      ]
     },
     "metadata": {},
     "output_type": "display_data"
    },
    {
     "name": "stdout",
     "output_type": "stream",
     "text": [
      "\n",
      "(45, 45, 45, 45)\n"
     ]
    }
   ],
   "source": [
    "#ניבוי המודל אחרי יישום ההמלצות\n",
    "from tqdm import tqdm_notebook\n",
    "dic = {}\n",
    "normalized_df_new = normalized_df.copy()\n",
    "for i in tqdm_notebook(range(5,50,5)):\n",
    "    normalized_df_new['number_of_cars_in_tender'] = normalized_df['number_of_cars_in_tender']+np.log(1-i/100)\n",
    "    for i2 in range(5, 50, 5):\n",
    "        normalized_df_new['CAR_TYPE_NUM'] = normalized_df['CAR_TYPE_NUM'] + np.log(1-i2/100)\n",
    "        for i3 in range(5,50, 5):\n",
    "            normalized_df_new['KM_NUM'] =normalized_df['KM_NUM']+np.log(1+i3/100)\n",
    "            for i4 in range(5,50, 5):\n",
    "                normalized_df_new['DATEROAD_NUM'] = normalized_df['DATEROAD_NUM']+np.log(1+i4/100)\n",
    "                X= normalized_df_new.drop(['SALE_PRICE','HATZAA_NO','accident_ind','number_of_people_in_tender','year_of_tender'], axis=1)\n",
    "                X=pd.get_dummies(X, prefix=None, drop_first=True)\n",
    "                Y= normalized_df_new['SALE_PRICE']\n",
    "                X['KM_family']=X['CNTRC']*X['CAR_TYPE_family']\n",
    "                X['KM_large']=X['CNTRC']*X['CAR_TYPE_large']\n",
    "                X['KM_jeep']=X['CNTRC']*X['CAR_TYPE_jeep']\n",
    "                X['KM_motorcycle']=X['CNTRC']*X['CAR_TYPE_motorcycle']\n",
    "            \n",
    "                predictions = reg_model.predict(X)\n",
    "                l2 = [math.exp(i) for i in predictions]\n",
    "                dic[i,i2,i3,i4] = sum(l2)\n",
    "print(max(dic))"
   ]
  },
  {
   "cell_type": "code",
   "execution_count": 208,
   "metadata": {},
   "outputs": [],
   "source": [
    "normalized_df_new = normalized_df.copy()\n",
    "normalized_df_new['number_of_cars_in_tender'] = normalized_df['number_of_cars_in_tender']+np.log(0.7)\n",
    "normalized_df_new['CAR_TYPE_NUM'] = normalized_df['CAR_TYPE_NUM'] + np.log(0.8)\n",
    "normalized_df_new['KM_NUM'] =normalized_df['KM_NUM']+np.log(1.2)\n",
    "normalized_df_new['DATEROAD_NUM'] = normalized_df['DATEROAD_NUM']+np.log(1.2)\n",
    "normalized_df_new['number_of_offers_in_tender'] = normalized_df['number_of_offers_in_tender']+np.log(1.1)\n",
    "X= normalized_df_new.drop(['SALE_PRICE','HATZAA_NO','accident_ind','number_of_people_in_tender','year_of_tender', 'DATEROAD','KM'], axis=1)\n",
    "X=pd.get_dummies(X, prefix=None, drop_first=True)\n",
    "X['KM_family']=X['CNTRC']*X['CAR_TYPE_family']\n",
    "X['KM_large']=X['CNTRC']*X['CAR_TYPE_large']\n",
    "X['KM_jeep']=X['CNTRC']*X['CAR_TYPE_jeep']\n",
    "X['KM_motorcycle']=X['CNTRC']*X['CAR_TYPE_motorcycle']\n",
    "X = sm.add_constant(X)\n",
    "predictions = reg_model.predict(X)"
   ]
  },
  {
   "cell_type": "code",
   "execution_count": 209,
   "metadata": {},
   "outputs": [
    {
     "data": {
      "text/plain": [
       "367624594.94749755"
      ]
     },
     "execution_count": 209,
     "metadata": {},
     "output_type": "execute_result"
    }
   ],
   "source": [
    "l = [math.exp(i) for i in predictions]\n",
    "sum(l)"
   ]
  },
  {
   "cell_type": "code",
   "execution_count": 210,
   "metadata": {},
   "outputs": [
    {
     "data": {
      "text/plain": [
       "45247858.68453723"
      ]
     },
     "execution_count": 210,
     "metadata": {},
     "output_type": "execute_result"
    }
   ],
   "source": [
    "367624594.94749755- 322376736.2629603\n"
   ]
  },
  {
   "cell_type": "code",
   "execution_count": 211,
   "metadata": {},
   "outputs": [
    {
     "data": {
      "text/plain": [
       "0.14035708410308145"
      ]
     },
     "execution_count": 211,
     "metadata": {},
     "output_type": "execute_result"
    }
   ],
   "source": [
    "45247858.68453723/322376736.2629603\n"
   ]
  },
  {
   "cell_type": "code",
   "execution_count": 181,
   "metadata": {},
   "outputs": [
    {
     "name": "stdout",
     "output_type": "stream",
     "text": [
      "322684717.8173534\n"
     ]
    }
   ],
   "source": [
    "print(max(dic.values()))"
   ]
  },
  {
   "cell_type": "code",
   "execution_count": 180,
   "metadata": {},
   "outputs": [
    {
     "name": "stdout",
     "output_type": "stream",
     "text": [
      "322684717.8152987\n"
     ]
    }
   ],
   "source": [
    "print(dic[45, 45, 45, 45])"
   ]
  },
  {
   "cell_type": "code",
   "execution_count": 178,
   "metadata": {},
   "outputs": [
    {
     "data": {
      "text/plain": [
       "307981.5525306463"
      ]
     },
     "execution_count": 178,
     "metadata": {},
     "output_type": "execute_result"
    }
   ],
   "source": [
    "322684717.81549096 - 322376736.2629603 "
   ]
  },
  {
   "cell_type": "markdown",
   "metadata": {},
   "source": [
    "### Build dummies Data Frame"
   ]
  },
  {
   "cell_type": "markdown",
   "metadata": {},
   "source": [
    "-------------הפיכת העמודות הנומריות לקטגוריות, ואז הפיכת כל המשתנים לדמי (לא משתמשים בכלל בלוג)- שימוש בקטגוריות עבור מודל וסוג מנוע--------------"
   ]
  },
  {
   "cell_type": "code",
   "execution_count": 46,
   "metadata": {},
   "outputs": [],
   "source": [
    "# הפיכת המשתנים הנומריים לקטגוריות כדי שבהמשך נוכל להפוך אותם למשתני דמי\n",
    "dummies_df=cars_df.copy()\n",
    "dummies_df=dummies_df[dummies_df['CAR_TYPE']!='mini']\n",
    "#dummies_df['range_offers'] = pd.cut(dummies_df['HATZAA_NO'], [0,5,10,20,100])\n",
    "dummies_df['range_engine_power'] = pd.cut(dummies_df['ENGINE_POWER'], [0,1600,2000,10000])\n",
    "dummies_df['range_owners'] = pd.cut(dummies_df['NO_OWNERS'], [0,1,5])\n",
    "#dummies_df['range_people_in_tender'] = pd.cut(dummies_df['number_of_people_in_tender'], [0,200,300,400,500])\n",
    "dummies_df['range_cars_in_tender'] = pd.cut(dummies_df['number_of_cars_in_tender'], [0,200,250,300,500])\n",
    "dummies_df['range_offers_in_tender'] = pd.cut(dummies_df['number_of_offers_in_tender'], [0,2500,3500,5000])\n",
    "#dummies_df['range_year'] = pd.cut(dummies_df['year_of_tender'], [0,2016,2020])\n",
    "dummies_df['range_tenders_same_year'] = pd.cut(dummies_df['number_of_tenders_in_same_year'], [0,8,11,15])\n",
    "dummies_df['range_km_num'] = pd.cut(dummies_df['KM_NUM'], [0,50,100,150,350])\n",
    "dummies_df['range_dateroad_num'] = pd.cut(dummies_df['DATEROAD_NUM'], [0,400,800,1200,2500])\n",
    "dummies_df['range_car_type_num'] = pd.cut(dummies_df['CAR_TYPE_NUM'], [0,5,10, 25, 50,100,150,200,250,300, 350,400, 450, 500])\n",
    "dummies_df['range_age'] = pd.cut(dummies_df['AGE'], [0,4,5,6,20])\n",
    "dummies_df['range_km'] = pd.cut(dummies_df['CNTRC'], [0,200000,250000,350000,1000000])\n",
    "#dummies_df['range_price'] = pd.cut(dummies_df['SALE_PRICE'], [0,20000,30000,45000,100000])"
   ]
  },
  {
   "cell_type": "code",
   "execution_count": 47,
   "metadata": {},
   "outputs": [],
   "source": [
    "# להוריד את כל העמודות הנומריות (הרי הפכנו אותם כבר לעמודות קטגוריאליות)\n",
    "dummies_df.drop(['HATZAA_NO','ENGINE_POWER','NO_OWNERS','number_of_people_in_tender','CNTRC', \n",
    "                  'number_of_cars_in_tender','number_of_offers_in_tender','year_of_tender',\n",
    "                  'number_of_tenders_in_same_year', 'KM_NUM' ,'DATEROAD_NUM', 'CAR_TYPE_NUM','AGE',\n",
    "                'EQUNR', 'TENDERNO','MODEL','PRODUCT'], axis=1, inplace=True)"
   ]
  },
  {
   "cell_type": "markdown",
   "metadata": {},
   "source": [
    "## 2. OLS REGRESSION on dummies DF"
   ]
  },
  {
   "cell_type": "code",
   "execution_count": 48,
   "metadata": {},
   "outputs": [
    {
     "data": {
      "text/html": [
       "<table class=\"simpletable\">\n",
       "<caption>OLS Regression Results</caption>\n",
       "<tr>\n",
       "  <th>Dep. Variable:</th>       <td>SALE_PRICE</td>    <th>  R-squared:         </th> <td>   0.671</td> \n",
       "</tr>\n",
       "<tr>\n",
       "  <th>Model:</th>                   <td>OLS</td>       <th>  Adj. R-squared:    </th> <td>   0.669</td> \n",
       "</tr>\n",
       "<tr>\n",
       "  <th>Method:</th>             <td>Least Squares</td>  <th>  F-statistic:       </th> <td>   496.3</td> \n",
       "</tr>\n",
       "<tr>\n",
       "  <th>Date:</th>             <td>Sun, 21 Jun 2020</td> <th>  Prob (F-statistic):</th>  <td>  0.00</td>  \n",
       "</tr>\n",
       "<tr>\n",
       "  <th>Time:</th>                 <td>21:13:28</td>     <th>  Log-Likelihood:    </th> <td> -5046.9</td> \n",
       "</tr>\n",
       "<tr>\n",
       "  <th>No. Observations:</th>      <td>  9301</td>      <th>  AIC:               </th> <td>1.017e+04</td>\n",
       "</tr>\n",
       "<tr>\n",
       "  <th>Df Residuals:</th>          <td>  9262</td>      <th>  BIC:               </th> <td>1.045e+04</td>\n",
       "</tr>\n",
       "<tr>\n",
       "  <th>Df Model:</th>              <td>    38</td>      <th>                     </th>     <td> </td>    \n",
       "</tr>\n",
       "<tr>\n",
       "  <th>Covariance Type:</th>      <td>nonrobust</td>    <th>                     </th>     <td> </td>    \n",
       "</tr>\n",
       "</table>\n",
       "<table class=\"simpletable\">\n",
       "<tr>\n",
       "                   <td></td>                      <th>coef</th>     <th>std err</th>      <th>t</th>      <th>P>|t|</th>  <th>[0.025</th>    <th>0.975]</th>  \n",
       "</tr>\n",
       "<tr>\n",
       "  <th>const</th>                               <td>   10.4674</td> <td>    0.045</td> <td>  231.654</td> <td> 0.000</td> <td>   10.379</td> <td>   10.556</td>\n",
       "</tr>\n",
       "<tr>\n",
       "  <th>TRADE</th>                               <td>   -1.2636</td> <td>    0.065</td> <td>  -19.587</td> <td> 0.000</td> <td>   -1.390</td> <td>   -1.137</td>\n",
       "</tr>\n",
       "<tr>\n",
       "  <th>CAR_POSITION_מינהל הרכב</th>             <td>    0.1300</td> <td>    0.014</td> <td>    9.408</td> <td> 0.000</td> <td>    0.103</td> <td>    0.157</td>\n",
       "</tr>\n",
       "<tr>\n",
       "  <th>CAR_POSITION_משטרה</th>                  <td>    0.0232</td> <td>    0.018</td> <td>    1.285</td> <td> 0.199</td> <td>   -0.012</td> <td>    0.059</td>\n",
       "</tr>\n",
       "<tr>\n",
       "  <th>CAR_TYPE_family</th>                     <td>   -0.1110</td> <td>    0.021</td> <td>   -5.208</td> <td> 0.000</td> <td>   -0.153</td> <td>   -0.069</td>\n",
       "</tr>\n",
       "<tr>\n",
       "  <th>CAR_TYPE_jeep</th>                       <td>    0.1599</td> <td>    0.031</td> <td>    5.193</td> <td> 0.000</td> <td>    0.100</td> <td>    0.220</td>\n",
       "</tr>\n",
       "<tr>\n",
       "  <th>CAR_TYPE_large</th>                      <td>   -0.0316</td> <td>    0.026</td> <td>   -1.210</td> <td> 0.226</td> <td>   -0.083</td> <td>    0.020</td>\n",
       "</tr>\n",
       "<tr>\n",
       "  <th>CAR_TYPE_motorcycle</th>                 <td>   -1.5846</td> <td>    0.026</td> <td>  -61.712</td> <td> 0.000</td> <td>   -1.635</td> <td>   -1.534</td>\n",
       "</tr>\n",
       "<tr>\n",
       "  <th>ENGINE_TYPE_Category_Hybrid</th>         <td>   -0.0085</td> <td>    0.023</td> <td>   -0.369</td> <td> 0.712</td> <td>   -0.053</td> <td>    0.037</td>\n",
       "</tr>\n",
       "<tr>\n",
       "  <th>ENGINE_TYPE_Category_Solar</th>          <td>   -0.0529</td> <td>    0.025</td> <td>   -2.082</td> <td> 0.037</td> <td>   -0.103</td> <td>   -0.003</td>\n",
       "</tr>\n",
       "<tr>\n",
       "  <th>GEAR_TYPE_Category_manual</th>           <td>    0.1322</td> <td>    0.016</td> <td>    8.295</td> <td> 0.000</td> <td>    0.101</td> <td>    0.163</td>\n",
       "</tr>\n",
       "<tr>\n",
       "  <th>range_engine_power_(1600, 2000]</th>     <td>    0.2834</td> <td>    0.015</td> <td>   18.812</td> <td> 0.000</td> <td>    0.254</td> <td>    0.313</td>\n",
       "</tr>\n",
       "<tr>\n",
       "  <th>range_engine_power_(2000, 10000]</th>    <td>    0.7982</td> <td>    0.021</td> <td>   37.149</td> <td> 0.000</td> <td>    0.756</td> <td>    0.840</td>\n",
       "</tr>\n",
       "<tr>\n",
       "  <th>range_owners_(1, 5]</th>                 <td>   -0.8048</td> <td>    0.080</td> <td>  -10.075</td> <td> 0.000</td> <td>   -0.961</td> <td>   -0.648</td>\n",
       "</tr>\n",
       "<tr>\n",
       "  <th>range_cars_in_tender_(200, 250]</th>     <td>   -0.0573</td> <td>    0.016</td> <td>   -3.485</td> <td> 0.000</td> <td>   -0.090</td> <td>   -0.025</td>\n",
       "</tr>\n",
       "<tr>\n",
       "  <th>range_cars_in_tender_(250, 300]</th>     <td>   -0.0821</td> <td>    0.018</td> <td>   -4.628</td> <td> 0.000</td> <td>   -0.117</td> <td>   -0.047</td>\n",
       "</tr>\n",
       "<tr>\n",
       "  <th>range_cars_in_tender_(300, 500]</th>     <td>   -0.1002</td> <td>    0.026</td> <td>   -3.882</td> <td> 0.000</td> <td>   -0.151</td> <td>   -0.050</td>\n",
       "</tr>\n",
       "<tr>\n",
       "  <th>range_offers_in_tender_(2500, 3500]</th> <td>   -0.0053</td> <td>    0.013</td> <td>   -0.401</td> <td> 0.688</td> <td>   -0.031</td> <td>    0.020</td>\n",
       "</tr>\n",
       "<tr>\n",
       "  <th>range_offers_in_tender_(3500, 5000]</th> <td>    0.0612</td> <td>    0.017</td> <td>    3.627</td> <td> 0.000</td> <td>    0.028</td> <td>    0.094</td>\n",
       "</tr>\n",
       "<tr>\n",
       "  <th>range_tenders_same_year_(8, 11]</th>     <td>   -0.1026</td> <td>    0.013</td> <td>   -7.770</td> <td> 0.000</td> <td>   -0.128</td> <td>   -0.077</td>\n",
       "</tr>\n",
       "<tr>\n",
       "  <th>range_tenders_same_year_(11, 15]</th>    <td>   -0.0765</td> <td>    0.013</td> <td>   -5.843</td> <td> 0.000</td> <td>   -0.102</td> <td>   -0.051</td>\n",
       "</tr>\n",
       "<tr>\n",
       "  <th>range_km_num_(50, 100]</th>              <td>    0.0761</td> <td>    0.014</td> <td>    5.588</td> <td> 0.000</td> <td>    0.049</td> <td>    0.103</td>\n",
       "</tr>\n",
       "<tr>\n",
       "  <th>range_km_num_(100, 150]</th>             <td>    0.0995</td> <td>    0.015</td> <td>    6.467</td> <td> 0.000</td> <td>    0.069</td> <td>    0.130</td>\n",
       "</tr>\n",
       "<tr>\n",
       "  <th>range_km_num_(150, 350]</th>             <td>    0.1598</td> <td>    0.017</td> <td>    9.575</td> <td> 0.000</td> <td>    0.127</td> <td>    0.193</td>\n",
       "</tr>\n",
       "<tr>\n",
       "  <th>range_dateroad_num_(400, 800]</th>       <td>    0.0957</td> <td>    0.014</td> <td>    6.886</td> <td> 0.000</td> <td>    0.068</td> <td>    0.123</td>\n",
       "</tr>\n",
       "<tr>\n",
       "  <th>range_dateroad_num_(800, 1200]</th>      <td>    0.1055</td> <td>    0.016</td> <td>    6.588</td> <td> 0.000</td> <td>    0.074</td> <td>    0.137</td>\n",
       "</tr>\n",
       "<tr>\n",
       "  <th>range_dateroad_num_(1200, 2500]</th>     <td>    0.0843</td> <td>    0.015</td> <td>    5.531</td> <td> 0.000</td> <td>    0.054</td> <td>    0.114</td>\n",
       "</tr>\n",
       "<tr>\n",
       "  <th>range_car_type_num_(5, 10]</th>          <td>    0.0510</td> <td>    0.043</td> <td>    1.183</td> <td> 0.237</td> <td>   -0.033</td> <td>    0.135</td>\n",
       "</tr>\n",
       "<tr>\n",
       "  <th>range_car_type_num_(10, 25]</th>         <td>   -0.0881</td> <td>    0.040</td> <td>   -2.205</td> <td> 0.027</td> <td>   -0.166</td> <td>   -0.010</td>\n",
       "</tr>\n",
       "<tr>\n",
       "  <th>range_car_type_num_(25, 50]</th>         <td>   -0.1598</td> <td>    0.040</td> <td>   -4.003</td> <td> 0.000</td> <td>   -0.238</td> <td>   -0.082</td>\n",
       "</tr>\n",
       "<tr>\n",
       "  <th>range_car_type_num_(50, 100]</th>        <td>   -0.1360</td> <td>    0.041</td> <td>   -3.305</td> <td> 0.001</td> <td>   -0.217</td> <td>   -0.055</td>\n",
       "</tr>\n",
       "<tr>\n",
       "  <th>range_car_type_num_(100, 150]</th>       <td>   -0.1563</td> <td>    0.044</td> <td>   -3.548</td> <td> 0.000</td> <td>   -0.243</td> <td>   -0.070</td>\n",
       "</tr>\n",
       "<tr>\n",
       "  <th>range_car_type_num_(150, 200]</th>       <td>   -0.1124</td> <td>    0.045</td> <td>   -2.504</td> <td> 0.012</td> <td>   -0.200</td> <td>   -0.024</td>\n",
       "</tr>\n",
       "<tr>\n",
       "  <th>range_car_type_num_(200, 250]</th>       <td>-4.707e-16</td> <td> 3.57e-17</td> <td>  -13.193</td> <td> 0.000</td> <td>-5.41e-16</td> <td>-4.01e-16</td>\n",
       "</tr>\n",
       "<tr>\n",
       "  <th>range_car_type_num_(250, 300]</th>       <td>-7.288e-16</td> <td> 4.24e-17</td> <td>  -17.183</td> <td> 0.000</td> <td>-8.12e-16</td> <td>-6.46e-16</td>\n",
       "</tr>\n",
       "<tr>\n",
       "  <th>range_car_type_num_(300, 350]</th>       <td>-7.334e-17</td> <td> 3.01e-18</td> <td>  -24.353</td> <td> 0.000</td> <td>-7.92e-17</td> <td>-6.74e-17</td>\n",
       "</tr>\n",
       "<tr>\n",
       "  <th>range_car_type_num_(350, 400]</th>       <td> 1.041e-16</td> <td> 9.98e-18</td> <td>   10.426</td> <td> 0.000</td> <td> 8.45e-17</td> <td> 1.24e-16</td>\n",
       "</tr>\n",
       "<tr>\n",
       "  <th>range_car_type_num_(400, 450]</th>       <td> 1.988e-16</td> <td> 2.14e-18</td> <td>   92.917</td> <td> 0.000</td> <td> 1.95e-16</td> <td> 2.03e-16</td>\n",
       "</tr>\n",
       "<tr>\n",
       "  <th>range_car_type_num_(450, 500]</th>       <td>         0</td> <td>        0</td> <td>      nan</td> <td>   nan</td> <td>        0</td> <td>        0</td>\n",
       "</tr>\n",
       "<tr>\n",
       "  <th>range_age_(4, 5]</th>                    <td>   -0.0928</td> <td>    0.012</td> <td>   -7.694</td> <td> 0.000</td> <td>   -0.116</td> <td>   -0.069</td>\n",
       "</tr>\n",
       "<tr>\n",
       "  <th>range_age_(5, 6]</th>                    <td>   -0.1567</td> <td>    0.014</td> <td>  -10.974</td> <td> 0.000</td> <td>   -0.185</td> <td>   -0.129</td>\n",
       "</tr>\n",
       "<tr>\n",
       "  <th>range_age_(6, 20]</th>                   <td>   -0.2357</td> <td>    0.018</td> <td>  -13.319</td> <td> 0.000</td> <td>   -0.270</td> <td>   -0.201</td>\n",
       "</tr>\n",
       "<tr>\n",
       "  <th>range_km_(200000, 250000]</th>           <td>   -0.0593</td> <td>    0.012</td> <td>   -4.897</td> <td> 0.000</td> <td>   -0.083</td> <td>   -0.036</td>\n",
       "</tr>\n",
       "<tr>\n",
       "  <th>range_km_(250000, 350000]</th>           <td>   -0.1162</td> <td>    0.015</td> <td>   -7.932</td> <td> 0.000</td> <td>   -0.145</td> <td>   -0.087</td>\n",
       "</tr>\n",
       "<tr>\n",
       "  <th>range_km_(350000, 1000000]</th>          <td>   -0.1169</td> <td>    0.024</td> <td>   -4.946</td> <td> 0.000</td> <td>   -0.163</td> <td>   -0.071</td>\n",
       "</tr>\n",
       "</table>\n",
       "<table class=\"simpletable\">\n",
       "<tr>\n",
       "  <th>Omnibus:</th>       <td>1537.980</td> <th>  Durbin-Watson:     </th> <td>   1.212</td>\n",
       "</tr>\n",
       "<tr>\n",
       "  <th>Prob(Omnibus):</th>  <td> 0.000</td>  <th>  Jarque-Bera (JB):  </th> <td>7610.526</td>\n",
       "</tr>\n",
       "<tr>\n",
       "  <th>Skew:</th>           <td>-0.715</td>  <th>  Prob(JB):          </th> <td>    0.00</td>\n",
       "</tr>\n",
       "<tr>\n",
       "  <th>Kurtosis:</th>       <td> 7.194</td>  <th>  Cond. No.          </th> <td>1.20e+16</td>\n",
       "</tr>\n",
       "</table><br/><br/>Warnings:<br/>[1] Standard Errors assume that the covariance matrix of the errors is correctly specified.<br/>[2] The smallest eigenvalue is 2.31e-28. This might indicate that there are<br/>strong multicollinearity problems or that the design matrix is singular."
      ],
      "text/plain": [
       "<class 'statsmodels.iolib.summary.Summary'>\n",
       "\"\"\"\n",
       "                            OLS Regression Results                            \n",
       "==============================================================================\n",
       "Dep. Variable:             SALE_PRICE   R-squared:                       0.671\n",
       "Model:                            OLS   Adj. R-squared:                  0.669\n",
       "Method:                 Least Squares   F-statistic:                     496.3\n",
       "Date:                Sun, 21 Jun 2020   Prob (F-statistic):               0.00\n",
       "Time:                        21:13:28   Log-Likelihood:                -5046.9\n",
       "No. Observations:                9301   AIC:                         1.017e+04\n",
       "Df Residuals:                    9262   BIC:                         1.045e+04\n",
       "Df Model:                          38                                         \n",
       "Covariance Type:            nonrobust                                         \n",
       "=======================================================================================================\n",
       "                                          coef    std err          t      P>|t|      [0.025      0.975]\n",
       "-------------------------------------------------------------------------------------------------------\n",
       "const                                  10.4674      0.045    231.654      0.000      10.379      10.556\n",
       "TRADE                                  -1.2636      0.065    -19.587      0.000      -1.390      -1.137\n",
       "CAR_POSITION_מינהל הרכב                 0.1300      0.014      9.408      0.000       0.103       0.157\n",
       "CAR_POSITION_משטרה                      0.0232      0.018      1.285      0.199      -0.012       0.059\n",
       "CAR_TYPE_family                        -0.1110      0.021     -5.208      0.000      -0.153      -0.069\n",
       "CAR_TYPE_jeep                           0.1599      0.031      5.193      0.000       0.100       0.220\n",
       "CAR_TYPE_large                         -0.0316      0.026     -1.210      0.226      -0.083       0.020\n",
       "CAR_TYPE_motorcycle                    -1.5846      0.026    -61.712      0.000      -1.635      -1.534\n",
       "ENGINE_TYPE_Category_Hybrid            -0.0085      0.023     -0.369      0.712      -0.053       0.037\n",
       "ENGINE_TYPE_Category_Solar             -0.0529      0.025     -2.082      0.037      -0.103      -0.003\n",
       "GEAR_TYPE_Category_manual               0.1322      0.016      8.295      0.000       0.101       0.163\n",
       "range_engine_power_(1600, 2000]         0.2834      0.015     18.812      0.000       0.254       0.313\n",
       "range_engine_power_(2000, 10000]        0.7982      0.021     37.149      0.000       0.756       0.840\n",
       "range_owners_(1, 5]                    -0.8048      0.080    -10.075      0.000      -0.961      -0.648\n",
       "range_cars_in_tender_(200, 250]        -0.0573      0.016     -3.485      0.000      -0.090      -0.025\n",
       "range_cars_in_tender_(250, 300]        -0.0821      0.018     -4.628      0.000      -0.117      -0.047\n",
       "range_cars_in_tender_(300, 500]        -0.1002      0.026     -3.882      0.000      -0.151      -0.050\n",
       "range_offers_in_tender_(2500, 3500]    -0.0053      0.013     -0.401      0.688      -0.031       0.020\n",
       "range_offers_in_tender_(3500, 5000]     0.0612      0.017      3.627      0.000       0.028       0.094\n",
       "range_tenders_same_year_(8, 11]        -0.1026      0.013     -7.770      0.000      -0.128      -0.077\n",
       "range_tenders_same_year_(11, 15]       -0.0765      0.013     -5.843      0.000      -0.102      -0.051\n",
       "range_km_num_(50, 100]                  0.0761      0.014      5.588      0.000       0.049       0.103\n",
       "range_km_num_(100, 150]                 0.0995      0.015      6.467      0.000       0.069       0.130\n",
       "range_km_num_(150, 350]                 0.1598      0.017      9.575      0.000       0.127       0.193\n",
       "range_dateroad_num_(400, 800]           0.0957      0.014      6.886      0.000       0.068       0.123\n",
       "range_dateroad_num_(800, 1200]          0.1055      0.016      6.588      0.000       0.074       0.137\n",
       "range_dateroad_num_(1200, 2500]         0.0843      0.015      5.531      0.000       0.054       0.114\n",
       "range_car_type_num_(5, 10]              0.0510      0.043      1.183      0.237      -0.033       0.135\n",
       "range_car_type_num_(10, 25]            -0.0881      0.040     -2.205      0.027      -0.166      -0.010\n",
       "range_car_type_num_(25, 50]            -0.1598      0.040     -4.003      0.000      -0.238      -0.082\n",
       "range_car_type_num_(50, 100]           -0.1360      0.041     -3.305      0.001      -0.217      -0.055\n",
       "range_car_type_num_(100, 150]          -0.1563      0.044     -3.548      0.000      -0.243      -0.070\n",
       "range_car_type_num_(150, 200]          -0.1124      0.045     -2.504      0.012      -0.200      -0.024\n",
       "range_car_type_num_(200, 250]       -4.707e-16   3.57e-17    -13.193      0.000   -5.41e-16   -4.01e-16\n",
       "range_car_type_num_(250, 300]       -7.288e-16   4.24e-17    -17.183      0.000   -8.12e-16   -6.46e-16\n",
       "range_car_type_num_(300, 350]       -7.334e-17   3.01e-18    -24.353      0.000   -7.92e-17   -6.74e-17\n",
       "range_car_type_num_(350, 400]        1.041e-16   9.98e-18     10.426      0.000    8.45e-17    1.24e-16\n",
       "range_car_type_num_(400, 450]        1.988e-16   2.14e-18     92.917      0.000    1.95e-16    2.03e-16\n",
       "range_car_type_num_(450, 500]                0          0        nan        nan           0           0\n",
       "range_age_(4, 5]                       -0.0928      0.012     -7.694      0.000      -0.116      -0.069\n",
       "range_age_(5, 6]                       -0.1567      0.014    -10.974      0.000      -0.185      -0.129\n",
       "range_age_(6, 20]                      -0.2357      0.018    -13.319      0.000      -0.270      -0.201\n",
       "range_km_(200000, 250000]              -0.0593      0.012     -4.897      0.000      -0.083      -0.036\n",
       "range_km_(250000, 350000]              -0.1162      0.015     -7.932      0.000      -0.145      -0.087\n",
       "range_km_(350000, 1000000]             -0.1169      0.024     -4.946      0.000      -0.163      -0.071\n",
       "==============================================================================\n",
       "Omnibus:                     1537.980   Durbin-Watson:                   1.212\n",
       "Prob(Omnibus):                  0.000   Jarque-Bera (JB):             7610.526\n",
       "Skew:                          -0.715   Prob(JB):                         0.00\n",
       "Kurtosis:                       7.194   Cond. No.                     1.20e+16\n",
       "==============================================================================\n",
       "\n",
       "Warnings:\n",
       "[1] Standard Errors assume that the covariance matrix of the errors is correctly specified.\n",
       "[2] The smallest eigenvalue is 2.31e-28. This might indicate that there are\n",
       "strong multicollinearity problems or that the design matrix is singular.\n",
       "\"\"\""
      ]
     },
     "execution_count": 48,
     "metadata": {},
     "output_type": "execute_result"
    }
   ],
   "source": [
    "dummies_df=pd.get_dummies(dummies_df, prefix=None, drop_first=True)\n",
    "dummies_df=dummies_df.replace(np.nan, 0)\n",
    "X = dummies_df.drop(['SALE_PRICE','accident_ind'], axis=1)\n",
    "Y = np.log(dummies_df['SALE_PRICE'])  \n",
    "\n",
    "import statsmodels.api as sm\n",
    "X = sm.add_constant(X) ##let's add an intercept to our model\n",
    "reg_model= sm.OLS(Y,X).fit()\n",
    "predictions = reg_model.predict(X)\n",
    "reg_model.summary()"
   ]
  },
  {
   "cell_type": "markdown",
   "metadata": {},
   "source": [
    "# Random forest"
   ]
  },
  {
   "cell_type": "code",
   "execution_count": 43,
   "metadata": {},
   "outputs": [],
   "source": [
    "from sklearn.ensemble import RandomForestClassifier\n",
    "from sklearn.ensemble import RandomForestRegressor\n",
    "from sklearn.model_selection import train_test_split"
   ]
  },
  {
   "cell_type": "code",
   "execution_count": 44,
   "metadata": {},
   "outputs": [
    {
     "data": {
      "text/plain": [
       "RandomForestRegressor(bootstrap=True, criterion='mse', max_depth=None,\n",
       "                      max_features='auto', max_leaf_nodes=None,\n",
       "                      min_impurity_decrease=0.0, min_impurity_split=None,\n",
       "                      min_samples_leaf=1, min_samples_split=2,\n",
       "                      min_weight_fraction_leaf=0.0, n_estimators=10,\n",
       "                      n_jobs=None, oob_score=False, random_state=None,\n",
       "                      verbose=0, warm_start=False)"
      ]
     },
     "execution_count": 44,
     "metadata": {},
     "output_type": "execute_result"
    }
   ],
   "source": [
    "X_train, X_test, y_train, y_test = train_test_split(X, Y, test_size=0.35)\n",
    "rf = RandomForestRegressor(n_estimators=10)\n",
    "rf.fit(X_train, y_train)"
   ]
  },
  {
   "cell_type": "code",
   "execution_count": 48,
   "metadata": {},
   "outputs": [
    {
     "data": {
      "text/plain": [
       "0.844504135058735"
      ]
     },
     "execution_count": 48,
     "metadata": {},
     "output_type": "execute_result"
    }
   ],
   "source": [
    "rf.score(X_test, y_test)"
   ]
  },
  {
   "cell_type": "code",
   "execution_count": 49,
   "metadata": {},
   "outputs": [
    {
     "name": "stdout",
     "output_type": "stream",
     "text": [
      "1. ENGINE_POWER Weight\t- 0.49\n",
      "2. CAR_TYPE_motorcycle Weight\t- 0.19\n",
      "3. DATEROAD_NUM Weight\t- 0.06\n",
      "4. AGE Weight\t- 0.04\n",
      "5. KM_motorcycle Weight\t- 0.04\n",
      "6. CNTRC Weight\t- 0.03\n",
      "7. number_of_tenders_in_same_year Weight\t- 0.02\n",
      "8. KM_NUM Weight\t- 0.02\n",
      "9. KM_family Weight\t- 0.02\n",
      "10. CAR_TYPE_NUM Weight\t- 0.01\n",
      "11. number_of_cars_in_tender Weight\t- 0.01\n",
      "12. number_of_offers_in_tender Weight\t- 0.01\n",
      "13. CAR_POSITION_מינהל הרכב Weight\t- 0.01\n",
      "14. KM_large Weight\t- 0.01\n",
      "15. TRADE Weight\t- 0.01\n",
      "16. KM_jeep Weight\t- 0.00\n",
      "17. GEAR_TYPE_Category_manual Weight\t- 0.00\n",
      "18. CAR_POSITION_משטרה Weight\t- 0.00\n",
      "19. CAR_TYPE_large Weight\t- 0.00\n",
      "20. ENGINE_TYPE_Category_Hybrid Weight\t- 0.00\n",
      "21. ENGINE_TYPE_Category_Solar Weight\t- 0.00\n",
      "22. CAR_TYPE_family Weight\t- 0.00\n",
      "23. CAR_TYPE_jeep Weight\t- 0.00\n",
      "24. NO_OWNERS Weight\t- 0.00\n",
      "25. CAR_POSITION_רכב חילוט Weight\t- 0.00\n",
      "26. const Weight\t- 0.00\n"
     ]
    }
   ],
   "source": [
    "import numpy as np\n",
    "sort_order = np.argsort(rf.feature_importances_)[::-1]\n",
    "\n",
    "for i,feature_index in enumerate(sort_order): \n",
    "    feature = X.columns[ feature_index ]\n",
    "    imp = rf.feature_importances_[ feature_index ]\n",
    "    print ('{0:d}. {1:s} Weight\\t- {2:4.2f}'.format(i+1,feature, imp))"
   ]
  },
  {
   "cell_type": "code",
   "execution_count": 51,
   "metadata": {},
   "outputs": [
    {
     "data": {
      "image/png": "[encoded data removed]",
      "text/plain": [
       "<Figure size 864x576 with 1 Axes>"
      ]
     },
     "metadata": {
      "needs_background": "light"
     },
     "output_type": "display_data"
    }
   ],
   "source": [
    "sort_order = np.argsort(rf.feature_importances_)\n",
    "x = range(len(sort_order))\n",
    "y = rf.feature_importances_[sort_order]\n",
    "y_ticks = np.array(X.columns)[sort_order]\n",
    "fig, ax = plt.subplots(figsize=(12,8))\n",
    "plt.barh(x,y)\n",
    "plt.xlabel('Mean effect size'); plt.ylabel('Feature');\n",
    "ax.set_yticks(x)\n",
    "ax.set_yticklabels(y_ticks);\n",
    "plt.show()"
   ]
  },
  {
   "cell_type": "code",
   "execution_count": null,
   "metadata": {},
   "outputs": [],
   "source": []
  }
 ],
 "metadata": {
  "kernelspec": {
   "display_name": "Python 3",
   "language": "python",
   "name": "python3"
  },
  "language_info": {
   "codemirror_mode": {
    "name": "ipython",
    "version": 3
   },
   "file_extension": ".py",
   "mimetype": "text/x-python",
   "name": "python",
   "nbconvert_exporter": "python",
   "pygments_lexer": "ipython3",
   "version": "3.8.3"
  },
  "latex_envs": {
   "LaTeX_envs_menu_present": true,
   "autoclose": false,
   "autocomplete": true,
   "bibliofile": "biblio.bib",
   "cite_by": "apalike",
   "current_citInitial": 1,
   "eqLabelWithNumbers": true,
   "eqNumInitial": 1,
   "hotkeys": {
    "equation": "Ctrl-E",
    "itemize": "Ctrl-I"
   },
   "labels_anchors": false,
   "latex_user_defs": false,
   "report_style_numbering": false,
   "user_envs_cfg": false
  }
 },
 "nbformat": 4,
 "nbformat_minor": 4
}
